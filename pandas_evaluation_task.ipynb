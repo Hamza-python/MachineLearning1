{
 "cells": [
  {
   "cell_type": "markdown",
   "metadata": {},
   "source": [
    "# Perform the following analysis on the provided file \"demo.csv\".\n",
    "\n",
    "\n",
    "## 1. Which month saw the highest joining of the employees\n",
    "\n",
    "   function name: max_joinings_month()\n",
    "   \n",
    "   inputs: DataFrame\n",
    "   \n",
    "   outputs: str\n",
    "   \n",
    "   \n",
    "## 2. What is the mean salary is the state KS\n",
    "   \n",
    "   function name: mean_ks_salary()\n",
    "   \n",
    "   inputs: DataFrame\n",
    "   \n",
    "   outputs: float\n",
    "   \n",
    "   \n",
    "## 3. Which Region has highest mean salary\n",
    "   \n",
    "   function name: max_mean_salary_region()\n",
    "   \n",
    "   inputs: DataFrame\n",
    "   \n",
    "   outputs: str\n",
    "   \n",
    "   \n",
    "## 4. Which region has lowest mean salary\n",
    "   \n",
    "   function name: min_mean_salary_region()\n",
    "   \n",
    "   inputs: DataFrame\n",
    "   \n",
    "   outputs: str\n",
    "   \n",
    "   \n",
    "## 5. Which City has highest mean weight\n",
    "   \n",
    "   function name: max_mean_weight_city()\n",
    "   \n",
    "   inputs: DataFrame\n",
    "   \n",
    "   outputs: str\n",
    "   \n",
    "   \n",
    "## 6. What is the difference between mean salary of Doctors and Professors\n",
    "   \n",
    "   function name: dr_prof_mean_salary_diff()\n",
    "   \n",
    "   inputs: DataFrame\n",
    "   \n",
    "   outputs: float\n",
    "   \n",
    "   \n",
    "## 7. How many female use yahoo\n",
    "   \n",
    "   function name: females_with_yahoo()\n",
    "   \n",
    "   inputs: DataFrame\n",
    "   \n",
    "   outputs: int\n",
    "   \n",
    "   \n",
    "## 8. How many Doctors use gmail\n",
    "   \n",
    "   function name: doctors_with_gmail()\n",
    "   \n",
    "   inputs: DataFrame\n",
    "   \n",
    "   outputs: int\n",
    "   \n",
    "   \n",
    "## 9. What is the password of the youngest male\n",
    "   \n",
    "   function name: youngest_male_password()\n",
    "   \n",
    "   inputs: DataFrame\n",
    "   \n",
    "   outputs: str\n"
   ]
  },
  {
   "cell_type": "code",
   "execution_count": 20,
   "metadata": {},
   "outputs": [],
   "source": [
    "import pandas as pd\n",
    "\n",
    "# demo.csv\n",
    "# file_path = \"demo.csv\"\n",
    "# df = pd.read_csv(file_path)\n",
    "# display(df)\n",
    "\n",
    "# test.csv\n",
    "file_path = \"test1.csv\"\n",
    "test_df = pd.read_csv(file_path)\n",
    "# display(test_df)\n"
   ]
  },
  {
   "cell_type": "markdown",
   "metadata": {},
   "source": [
    "## 1. Which month saw the highest joining of the employees\n",
    "\n",
    "   function name: max_joinings_month()\n",
    "   \n",
    "   inputs: DataFrame\n",
    "   \n",
    "   outputs: str"
   ]
  },
  {
   "cell_type": "code",
   "execution_count": 21,
   "metadata": {},
   "outputs": [
    {
     "name": "stdout",
     "output_type": "stream",
     "text": [
      "on demo.csv April\n",
      "on test.csv April\n"
     ]
    }
   ],
   "source": [
    "def max_joinings_month(df):\n",
    "    # your code here\n",
    "    df['Date of Joining'] = pd.to_datetime(df['Date of Joining'])\n",
    "    df['month'] = df['Date of Joining'].dt.month_name()\n",
    "    monthly_joinings = df['month'].value_counts()\n",
    "    max_month = monthly_joinings.idxmax()\n",
    "    return max_month\n",
    "\n",
    "\n",
    "print(\"on demo.csv\",max_joinings_month(df))\n",
    "print(\"on test.csv\",max_joinings_month(test_df))"
   ]
  },
  {
   "cell_type": "markdown",
   "metadata": {},
   "source": [
    "## 2. What is the mean salary is the state KS\n",
    "   \n",
    "   function name: mean_ks_salary()\n",
    "   \n",
    "   inputs: DataFrame\n",
    "   \n",
    "   outputs: float"
   ]
  },
  {
   "cell_type": "code",
   "execution_count": 22,
   "metadata": {},
   "outputs": [
    {
     "name": "stdout",
     "output_type": "stream",
     "text": [
      "on demo.csv 104225.45454545454\n",
      "on test.csv 121682.33333333333\n"
     ]
    }
   ],
   "source": [
    "def mean_ks_salary(df):\n",
    "    # your code here\n",
    "    ks_data = df[df['State'] == 'KS']\n",
    "    mean_salary_ks = ks_data['Salary'].mean()\n",
    "    \n",
    "    return mean_salary_ks\n",
    "\n",
    "print(\"on demo.csv\",mean_ks_salary(df))\n",
    "print(\"on test.csv\",mean_ks_salary(test_df))\n"
   ]
  },
  {
   "cell_type": "markdown",
   "metadata": {},
   "source": [
    "## 3. Which Region has highest mean salary\n",
    "   \n",
    "   function name: max_mean_salary_region()\n",
    "   \n",
    "   inputs: DataFrame\n",
    "   \n",
    "   outputs: str"
   ]
  },
  {
   "cell_type": "code",
   "execution_count": 23,
   "metadata": {},
   "outputs": [
    {
     "name": "stdout",
     "output_type": "stream",
     "text": [
      "on demo.csv Midwest\n",
      "on test.csv West\n"
     ]
    }
   ],
   "source": [
    "def max_mean_salary_region(df):\n",
    "    # your code here\n",
    "    mean_salary_by_region = df.groupby('Region')['Salary'].mean()\n",
    "    max_mean_region = mean_salary_by_region.idxmax()\n",
    "    return max_mean_region\n",
    "\n",
    "print(\"on demo.csv\",max_mean_salary_region(df))\n",
    "print(\"on test.csv\",max_mean_salary_region(test_df))\n"
   ]
  },
  {
   "cell_type": "markdown",
   "metadata": {},
   "source": [
    "## 4. Which region has lowest mean salary\n",
    "   \n",
    "   function name: min_mean_salary_region()\n",
    "   \n",
    "   inputs: DataFrame\n",
    "   \n",
    "   outputs: str"
   ]
  },
  {
   "cell_type": "code",
   "execution_count": 24,
   "metadata": {},
   "outputs": [
    {
     "name": "stdout",
     "output_type": "stream",
     "text": [
      "on demo.csv West\n",
      "on test.csv Midwest\n"
     ]
    }
   ],
   "source": [
    "def min_mean_salary_region(df):\n",
    "    # your code here\n",
    "    mean_salary_by_region = df.groupby('Region')['Salary'].mean()\n",
    "    min_mean_region = mean_salary_by_region.idxmin()\n",
    "    return min_mean_region\n",
    "\n",
    "print(\"on demo.csv\",min_mean_salary_region(df))\n",
    "print(\"on test.csv\",min_mean_salary_region(test_df))\n"
   ]
  },
  {
   "cell_type": "markdown",
   "metadata": {},
   "source": [
    "## 5. Which City has highest mean weight\n",
    "   \n",
    "   function name: max_mean_weight_city()\n",
    "   \n",
    "   inputs: DataFrame\n",
    "   \n",
    "   outputs: str"
   ]
  },
  {
   "cell_type": "code",
   "execution_count": 25,
   "metadata": {},
   "outputs": [
    {
     "name": "stdout",
     "output_type": "stream",
     "text": [
      "on demo.csv Conroe\n",
      "on test.csv Conroe\n"
     ]
    }
   ],
   "source": [
    "def max_mean_weight_city(df):\n",
    "    # your code here\n",
    "    city_mean_weight = df.groupby('City')['Weight in Kgs.'].mean()\n",
    "    max_city_mean_weight = city_mean_weight.idxmax()\n",
    "    return max_city_mean_weight\n",
    "\n",
    "print(\"on demo.csv\",max_mean_weight_city(df))\n",
    "print(\"on test.csv\",max_mean_weight_city(test_df))\n"
   ]
  },
  {
   "cell_type": "markdown",
   "metadata": {},
   "source": [
    "## 6. What is the difference between mean salary of Doctors and Professors\n",
    "   \n",
    "   function name: dr_prof_mean_salary_diff()\n",
    "   \n",
    "   inputs: DataFrame\n",
    "   \n",
    "   outputs: float"
   ]
  },
  {
   "cell_type": "code",
   "execution_count": 32,
   "metadata": {},
   "outputs": [
    {
     "name": "stdout",
     "output_type": "stream",
     "text": [
      "on demo.csv -6500.446180555562\n",
      "on test.csv 6500.446180555562\n"
     ]
    }
   ],
   "source": [
    "def dr_prof_mean_salary_diff(df):\n",
    "    dr_prof_data = df[df['Name Prefix'].isin(['Dr.', 'Prof.', 'Drs'])]\n",
    "    mean_salary_doctors = dr_prof_data[dr_prof_data['Name Prefix'] == 'Dr.']['Salary'].mean()\n",
    "    mean_salary_professors = dr_prof_data[dr_prof_data['Name Prefix'] == 'Prof.']['Salary'].mean()\n",
    "#     mean_salary_doctor = dr_prof_data[dr_prof_data['Name Prefix'] == 'Drs.']['Salary'].mean()\n",
    "    salary_diff =  mean_salary_doctors - mean_salary_professors\n",
    "    \n",
    "    return salary_diff\n",
    "\n",
    "\n",
    "print(\"on demo.csv\",dr_prof_mean_salary_diff(df))\n",
    "print(\"on test.csv\",dr_prof_mean_salary_diff(test_df))\n"
   ]
  },
  {
   "cell_type": "markdown",
   "metadata": {},
   "source": [
    "## 7. How many female use yahoo\n",
    "   \n",
    "   function name: females_with_yahoo()\n",
    "   \n",
    "   inputs: DataFrame\n",
    "   \n",
    "   outputs: int"
   ]
  },
  {
   "cell_type": "code",
   "execution_count": 27,
   "metadata": {},
   "outputs": [
    {
     "name": "stdout",
     "output_type": "stream",
     "text": [
      "on demo.csv 69\n",
      "on test.csv 161\n"
     ]
    }
   ],
   "source": [
    "def females_with_yahoo(df):\n",
    "    # your code here\n",
    "    females_yahoo_data = df[(df['Gender'] == 'F') & df['E Mail'].str.contains('yahoo', case=False)]\n",
    "    num_females_with_yahoo = len(females_yahoo_data)\n",
    "    return num_females_with_yahoo\n",
    "\n",
    "print(\"on demo.csv\",females_with_yahoo(df))\n",
    "print(\"on test.csv\",females_with_yahoo(test_df))\n"
   ]
  },
  {
   "cell_type": "markdown",
   "metadata": {},
   "source": [
    "## 8. How many Doctors use gmail\n",
    "   \n",
    "   function name: doctors_with_gmail()\n",
    "   \n",
    "   inputs: DataFrame\n",
    "   \n",
    "   outputs: int"
   ]
  },
  {
   "cell_type": "code",
   "execution_count": 28,
   "metadata": {},
   "outputs": [
    {
     "name": "stdout",
     "output_type": "stream",
     "text": [
      "on demo.csv 42\n",
      "on test.csv 15\n"
     ]
    }
   ],
   "source": [
    "def doctors_with_gmail(df):\n",
    "    # your code here\n",
    "    doctor_gmail_data = df[(df['Name Prefix'] == 'Dr.') & df['E Mail'].str.contains('gmail', case=False)]\n",
    "    num_doctor_with_gmail = len(doctor_gmail_data)\n",
    "    doctors_gmail_data = df[(df['Name Prefix'] == 'Drs.') & df['E Mail'].str.contains('gmail', case=False)]\n",
    "    num_doctors_with_gmail = len(doctors_gmail_data)\n",
    "    total = num_doctors_with_gmail + num_doctor_with_gmail\n",
    "    return total\n",
    "\n",
    "print(\"on demo.csv\",doctors_with_gmail(df))\n",
    "print(\"on test.csv\",doctors_with_gmail(test_df))\n"
   ]
  },
  {
   "cell_type": "markdown",
   "metadata": {},
   "source": [
    "## 9. What is the password of the youngest male\n",
    "   \n",
    "   function name: youngest_male_password()\n",
    "   \n",
    "   inputs: DataFrame\n",
    "   \n",
    "   outputs: str"
   ]
  },
  {
   "cell_type": "code",
   "execution_count": 29,
   "metadata": {},
   "outputs": [
    {
     "name": "stdout",
     "output_type": "stream",
     "text": [
      "on demo.csv xPr\\aGPTQ#v\n",
      "on test.csv xPr\\aGPTQ#v\n"
     ]
    }
   ],
   "source": [
    "def youngest_male_password(df):\n",
    "    # your code here\n",
    "    male_data = df[df['Gender'] == 'M']\n",
    "    youngest_male_row = male_data.loc[male_data['Age in Yrs.'].idxmin()]\n",
    "    youngest_male_password = youngest_male_row['Password']\n",
    "    \n",
    "    return youngest_male_password\n",
    "\n",
    "print(\"on demo.csv\",youngest_male_password(df))\n",
    "print(\"on test.csv\",youngest_male_password(test_df))\n"
   ]
  },
  {
   "cell_type": "code",
   "execution_count": null,
   "metadata": {},
   "outputs": [],
   "source": []
  }
 ],
 "metadata": {
  "kernelspec": {
   "display_name": "Python 3 (ipykernel)",
   "language": "python",
   "name": "python3"
  },
  "language_info": {
   "codemirror_mode": {
    "name": "ipython",
    "version": 3
   },
   "file_extension": ".py",
   "mimetype": "text/x-python",
   "name": "python",
   "nbconvert_exporter": "python",
   "pygments_lexer": "ipython3",
   "version": "3.9.13"
  }
 },
 "nbformat": 4,
 "nbformat_minor": 2
}
