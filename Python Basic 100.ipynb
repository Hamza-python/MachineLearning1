{
 "cells": [
  {
   "cell_type": "markdown",
   "id": "c4883d54",
   "metadata": {},
   "source": [
    "### Question 1\n",
    "Level 1\n",
    "\n",
    "Question:\n",
    "Write a program which will find all such numbers which are divisible by 7 but are not a multiple of 5, between 2000 and 3200 (both included).\n",
    "The numbers obtained should be printed in a comma-separated sequence on a single line.\n",
    "\n",
    "Hints: \n",
    "Consider use range(#begin, #end) method\n"
   ]
  },
  {
   "cell_type": "code",
   "execution_count": 4,
   "id": "79a6bacb",
   "metadata": {},
   "outputs": [
    {
     "name": "stdout",
     "output_type": "stream",
     "text": [
      "2002, 2009, 2016, 2023, 2037, 2044, 2051, 2058, 2072, 2079, 2086, 2093, 2107, 2114, 2121, 2128, 2142, 2149, 2156, 2163, 2177, 2184, 2191, 2198, 2212, 2219, 2226, 2233, 2247, 2254, 2261, 2268, 2282, 2289, 2296, 2303, 2317, 2324, 2331, 2338, 2352, 2359, 2366, 2373, 2387, 2394, 2401, 2408, 2422, 2429, 2436, 2443, 2457, 2464, 2471, 2478, 2492, 2499, 2506, 2513, 2527, 2534, 2541, 2548, 2562, 2569, 2576, 2583, 2597, 2604, 2611, 2618, 2632, 2639, 2646, 2653, 2667, 2674, 2681, 2688, 2702, 2709, 2716, 2723, 2737, 2744, 2751, 2758, 2772, 2779, 2786, 2793, 2807, 2814, 2821, 2828, 2842, 2849, 2856, 2863, 2877, 2884, 2891, 2898, 2912, 2919, 2926, 2933, 2947, 2954, 2961, 2968, 2982, 2989, 2996, 3003, 3017, 3024, 3031, 3038, 3052, 3059, 3066, 3073, 3087, 3094, 3101, 3108, 3122, 3129, 3136, 3143, 3157, 3164, 3171, 3178, 3192, 3199, "
     ]
    }
   ],
   "source": [
    "for i in range(2000, 3200+1):\n",
    "    if i % 7 == 0 and i % 5 != 0:\n",
    "        print(i,end=', ')"
   ]
  },
  {
   "cell_type": "markdown",
   "id": "2275b88b",
   "metadata": {},
   "source": [
    "### Question 2\n",
    "Level 1\n",
    "\n",
    "Question:\n",
    "Write a program which can compute the factorial of a given numbers.\n",
    "The results should be printed in a comma-separated sequence on a single line.\n",
    "Suppose the following input is supplied to the program:\n",
    "8\n",
    "Then, the output should be:\n",
    "40320\n",
    "\n",
    "Hints:\n",
    "In case of input data being supplied to the question, it should be assumed to be a console input."
   ]
  },
  {
   "cell_type": "code",
   "execution_count": 5,
   "id": "501f1019",
   "metadata": {},
   "outputs": [
    {
     "name": "stdout",
     "output_type": "stream",
     "text": [
      "Type a number: 8\n",
      "40320\n"
     ]
    }
   ],
   "source": [
    "def factorial(n):\n",
    "    value = 1\n",
    "    for i in range(1, n+1):\n",
    "        value = value * i\n",
    "    return value\n",
    "\n",
    "number = int(input(\"Type a number: \"))\n",
    "print(factorial(number))"
   ]
  },
  {
   "cell_type": "markdown",
   "id": "3b76ed10",
   "metadata": {},
   "source": [
    "### Question 3\n",
    "Level 1\n",
    "\n",
    "Question:\n",
    "With a given integral number n, write a program to generate a dictionary that contains (i, i*i) such that is an integral number between 1 and n (both included). and then the program should print the dictionary.\n",
    "Suppose the following input is supplied to the program:\n",
    "8\n",
    "Then, the output should be:\n",
    "{1: 1, 2: 4, 3: 9, 4: 16, 5: 25, 6: 36, 7: 49, 8: 64}\n",
    "\n",
    "Hints:\n",
    "In case of input data being supplied to the question, it should be assumed to be a console input.\n",
    "Consider use dict()"
   ]
  },
  {
   "cell_type": "code",
   "execution_count": 6,
   "id": "ce105c3a",
   "metadata": {},
   "outputs": [
    {
     "name": "stdout",
     "output_type": "stream",
     "text": [
      "Type a number: 8\n",
      "{1: 1, 2: 4, 3: 9, 4: 16, 5: 25, 6: 36, 7: 49, 8: 64}\n"
     ]
    }
   ],
   "source": [
    "def numSqrDic(number):\n",
    "\n",
    "    numberDict = {}\n",
    "    for i in range(1, number+1):\n",
    "        numberDict[i] = i*i\n",
    "    return numberDict\n",
    "\n",
    "output = numSqrDic(int(input(\"Type a number: \")))\n",
    "print(output)"
   ]
  },
  {
   "cell_type": "markdown",
   "id": "0cfc3121",
   "metadata": {},
   "source": [
    "### Question 4\n",
    "Level 1\n",
    "\n",
    "Question:\n",
    "Write a program which accepts a sequence of comma-separated numbers from console and generate a list and a tuple which contains every number.\n",
    "Suppose the following input is supplied to the program:\n",
    "34,67,55,33,12,98\n",
    "Then, the output should be:\n",
    "['34', '67', '55', '33', '12', '98']\n",
    "('34', '67', '55', '33', '12', '98')\n",
    "\n",
    "Hints:\n",
    "In case of input data being supplied to the question, it should be assumed to be a console input.\n",
    "tuple() method can convert list to tuple"
   ]
  },
  {
   "cell_type": "code",
   "execution_count": 3,
   "id": "8c8fcd9f",
   "metadata": {},
   "outputs": [
    {
     "name": "stdout",
     "output_type": "stream",
     "text": [
      "Note: Do not use space between numbers, seprate them with comma.\n",
      "Enter the numbers: 34,67,55,33,12,98\n",
      "['34', '67', '55', '33', '12', '98']\n",
      "('34', '67', '55', '33', '12', '98')\n"
     ]
    }
   ],
   "source": [
    "numbers = input(\"Note: Do not use space between numbers, seprate them with comma.\\nEnter the numbers: \")\n",
    "numbers_split = numbers.split(',')\n",
    "print(numbers_split)\n",
    "\n",
    "number_tuple = tuple(numbers_split)\n",
    "print(number_tuple)"
   ]
  },
  {
   "cell_type": "markdown",
   "id": "697d880b",
   "metadata": {},
   "source": [
    "### Question 5\n",
    "Level 1\n",
    "\n",
    "Question:\n",
    "Define a class which has at least two methods:\n",
    "getString: to get a string from console input\n",
    "printString: to print the string in upper case.\n",
    "Also please include simple test function to test the class methods.\n",
    "\n",
    "Hints:\n",
    "Use __init__ method to construct some parameters"
   ]
  },
  {
   "cell_type": "code",
   "execution_count": null,
   "id": "09c5e107",
   "metadata": {},
   "outputs": [],
   "source": []
  },
  {
   "cell_type": "markdown",
   "id": "b8c8c935",
   "metadata": {},
   "source": [
    "### Question 6\n",
    "Level 2\n",
    "\n",
    "Question:\n",
    "Write a program that calculates and prints the value according to the given formula:\n",
    "Q = Square root of [(2 * C * D)/H]\n",
    "Following are the fixed values of C and H:\n",
    "C is 50. H is 30.\n",
    "D is the variable whose values should be input to your program in a comma-separated sequence.\n",
    "Example\n",
    "Let us assume the following comma separated input sequence is given to the program:\n",
    "100,150,180\n",
    "The output of the program should be:\n",
    "18,22,24\n",
    "\n",
    "Hints:\n",
    "If the output received is in decimal form, it should be rounded off to its nearest value (for example, if the output received is 26.0, it should be printed as 26)\n",
    "In case of input data being supplied to the question, it should be assumed to be a console input."
   ]
  },
  {
   "cell_type": "code",
   "execution_count": 9,
   "id": "9c79603f",
   "metadata": {},
   "outputs": [
    {
     "name": "stdout",
     "output_type": "stream",
     "text": [
      "Enter the value of D: 100,150,180\n",
      "18,22,24,"
     ]
    }
   ],
   "source": [
    "import math\n",
    "\n",
    "numbers = input(\"Enter the value of D: \")\n",
    "numbers = numbers.split(',')\n",
    "\n",
    "for D in numbers:\n",
    "    Q = round(math.sqrt(2 * 50 * int(D) / 30))\n",
    "    print(Q, end=',')"
   ]
  },
  {
   "cell_type": "code",
   "execution_count": null,
   "id": "b4cba48d",
   "metadata": {},
   "outputs": [],
   "source": []
  }
 ],
 "metadata": {
  "kernelspec": {
   "display_name": "Python 3 (ipykernel)",
   "language": "python",
   "name": "python3"
  },
  "language_info": {
   "codemirror_mode": {
    "name": "ipython",
    "version": 3
   },
   "file_extension": ".py",
   "mimetype": "text/x-python",
   "name": "python",
   "nbconvert_exporter": "python",
   "pygments_lexer": "ipython3",
   "version": "3.9.13"
  }
 },
 "nbformat": 4,
 "nbformat_minor": 5
}
