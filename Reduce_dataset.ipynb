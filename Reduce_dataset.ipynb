{
 "cells": [
  {
   "cell_type": "code",
   "execution_count": 1,
   "metadata": {},
   "outputs": [],
   "source": [
    "import keras\n",
    "import random\n",
    "import collections\n",
    "import numpy as np\n",
    "import matplotlib.pyplot as plt\n",
    "\n",
    "import tensorflow\n",
    "def display_random_images_with_labels(d, n=10):\n",
    "    \"\"\"\n",
    "        accept dataset in tuple form, first index\n",
    "        is np arrays (images) and second is labels\n",
    "        and display n random images with labels\n",
    "        from it\n",
    "        Inputs:\n",
    "            d (tuple): dataset images, dataset labels on same indexs\n",
    "            n (int): number of samples to display (default: 10)\n",
    "        Output:\n",
    "            None\n",
    "    \"\"\"\n",
    "    choices = list(range(len(d[0])))\n",
    "    for i in range(n):\n",
    "        index = random.choice(choices)\n",
    "        choices.remove(index)\n",
    "        print(\"index:\",index)\n",
    "        print(\"Lable:\",d[1][index])\n",
    "        plt.imshow(d[0][index], cmap='gray')\n",
    "        plt.show()\n"
   ]
  },
  {
   "cell_type": "code",
   "execution_count": 2,
   "metadata": {},
   "outputs": [],
   "source": [
    "# Loading dataset\n",
    "dataset = tensorflow.keras.datasets.mnist.load_data()\n",
    "\n",
    "# Description of dataset\n",
    "\n",
    "# mnint is handwritten digits (0 to 9) images dataset\n",
    "# keras.datasets.mnist.load_data() loads those images in gray scale as cv2 images / np arrays\n",
    "# with those labels\n",
    "\n",
    "\n",
    "# dataset is in tuple form,\n",
    "# its first index dataset[0] represents training dataset\n",
    "# its second index dataset[1] represents testing dataset\n",
    "\n",
    "# Both training (dataset[0]) and testing (dataset[1]) datasets\n",
    "# are further tuples and have two elements,\n",
    "# dataset[0][0][0]"
   ]
  },
  {
   "cell_type": "code",
   "execution_count": 3,
   "metadata": {},
   "outputs": [
    {
     "name": "stdout",
     "output_type": "stream",
     "text": [
      "There are 60000 images in training dataset\n",
      "There are 10000 images in testing dataset\n",
      "___________________\n",
      "\n",
      "\n",
      "Each Image Shape:  (28, 28)\n"
     ]
    }
   ],
   "source": [
    "# first element of both training and testing (dataset[0][0] and dataset[0][0])\n",
    "# represnts images in numpy arrays\n",
    "print(\"There are\",len(dataset[0][0]),\"images in training dataset\")\n",
    "print(\"There are\",len(dataset[1][0]),\"images in testing dataset\")\n",
    "print(\"___________________\\n\\n\")\n",
    "# Each image is of shape 28x28\n",
    "print('Each Image Shape: ',dataset[0][0][0].shape)\n",
    "# print(\"___________________\")"
   ]
  },
  {
   "cell_type": "code",
   "execution_count": 4,
   "metadata": {},
   "outputs": [
    {
     "name": "stdout",
     "output_type": "stream",
     "text": [
      "Randomly printing 10 images with labels from training dataset\n",
      "index: 14263\n",
      "Lable: 8\n"
     ]
    },
    {
     "data": {
      "image/png": "[encoded data removed]",
      "text/plain": [
       "<Figure size 432x288 with 1 Axes>"
      ]
     },
     "metadata": {
      "needs_background": "light"
     },
     "output_type": "display_data"
    },
    {
     "name": "stdout",
     "output_type": "stream",
     "text": [
      "index: 8403\n",
      "Lable: 2\n"
     ]
    },
    {
     "data": {
      "image/png": "[encoded data removed]",
      "text/plain": [
       "<Figure size 432x288 with 1 Axes>"
      ]
     },
     "metadata": {
      "needs_background": "light"
     },
     "output_type": "display_data"
    },
    {
     "name": "stdout",
     "output_type": "stream",
     "text": [
      "index: 18611\n",
      "Lable: 6\n"
     ]
    },
    {
     "data": {
      "image/png": "[encoded data removed]",
      "text/plain": [
       "<Figure size 432x288 with 1 Axes>"
      ]
     },
     "metadata": {
      "needs_background": "light"
     },
     "output_type": "display_data"
    },
    {
     "name": "stdout",
     "output_type": "stream",
     "text": [
      "index: 9971\n",
      "Lable: 0\n"
     ]
    },
    {
     "data": {
      "image/png": "[encoded data removed]",
      "text/plain": [
       "<Figure size 432x288 with 1 Axes>"
      ]
     },
     "metadata": {
      "needs_background": "light"
     },
     "output_type": "display_data"
    },
    {
     "name": "stdout",
     "output_type": "stream",
     "text": [
      "index: 58127\n",
      "Lable: 9\n"
     ]
    },
    {
     "data": {
      "image/png": "[encoded data removed]",
      "text/plain": [
       "<Figure size 432x288 with 1 Axes>"
      ]
     },
     "metadata": {
      "needs_background": "light"
     },
     "output_type": "display_data"
    },
    {
     "name": "stdout",
     "output_type": "stream",
     "text": [
      "index: 16327\n",
      "Lable: 2\n"
     ]
    },
    {
     "data": {
      "image/png": "[encoded data removed]",
      "text/plain": [
       "<Figure size 432x288 with 1 Axes>"
      ]
     },
     "metadata": {
      "needs_background": "light"
     },
     "output_type": "display_data"
    },
    {
     "name": "stdout",
     "output_type": "stream",
     "text": [
      "index: 25012\n",
      "Lable: 8\n"
     ]
    },
    {
     "data": {
      "image/png": "[encoded data removed]",
      "text/plain": [
       "<Figure size 432x288 with 1 Axes>"
      ]
     },
     "metadata": {
      "needs_background": "light"
     },
     "output_type": "display_data"
    },
    {
     "name": "stdout",
     "output_type": "stream",
     "text": [
      "index: 54595\n",
      "Lable: 0\n"
     ]
    },
    {
     "data": {
      "image/png": "[encoded data removed]",
      "text/plain": [
       "<Figure size 432x288 with 1 Axes>"
      ]
     },
     "metadata": {
      "needs_background": "light"
     },
     "output_type": "display_data"
    },
    {
     "name": "stdout",
     "output_type": "stream",
     "text": [
      "index: 29772\n",
      "Lable: 0\n"
     ]
    },
    {
     "data": {
      "image/png": "[encoded data removed]",
      "text/plain": [
       "<Figure size 432x288 with 1 Axes>"
      ]
     },
     "metadata": {
      "needs_background": "light"
     },
     "output_type": "display_data"
    },
    {
     "name": "stdout",
     "output_type": "stream",
     "text": [
      "index: 13922\n",
      "Lable: 2\n"
     ]
    },
    {
     "data": {
      "image/png": "[encoded data removed]",
      "text/plain": [
       "<Figure size 432x288 with 1 Axes>"
      ]
     },
     "metadata": {
      "needs_background": "light"
     },
     "output_type": "display_data"
    },
    {
     "name": "stdout",
     "output_type": "stream",
     "text": [
      "___________________\n",
      "\n",
      "\n",
      "Randomly printing 10 images with labels from testing dataset\n",
      "index: 3704\n",
      "Lable: 8\n"
     ]
    },
    {
     "data": {
      "image/png": "[encoded data removed]",
      "text/plain": [
       "<Figure size 432x288 with 1 Axes>"
      ]
     },
     "metadata": {
      "needs_background": "light"
     },
     "output_type": "display_data"
    },
    {
     "name": "stdout",
     "output_type": "stream",
     "text": [
      "index: 9635\n",
      "Lable: 2\n"
     ]
    },
    {
     "data": {
      "image/png": "[encoded data removed]",
      "text/plain": [
       "<Figure size 432x288 with 1 Axes>"
      ]
     },
     "metadata": {
      "needs_background": "light"
     },
     "output_type": "display_data"
    },
    {
     "name": "stdout",
     "output_type": "stream",
     "text": [
      "index: 5045\n",
      "Lable: 2\n"
     ]
    },
    {
     "data": {
      "image/png": "[encoded data removed]",
      "text/plain": [
       "<Figure size 432x288 with 1 Axes>"
      ]
     },
     "metadata": {
      "needs_background": "light"
     },
     "output_type": "display_data"
    },
    {
     "name": "stdout",
     "output_type": "stream",
     "text": [
      "index: 1316\n",
      "Lable: 1\n"
     ]
    },
    {
     "data": {
      "image/png": "[encoded data removed]",
      "text/plain": [
       "<Figure size 432x288 with 1 Axes>"
      ]
     },
     "metadata": {
      "needs_background": "light"
     },
     "output_type": "display_data"
    },
    {
     "name": "stdout",
     "output_type": "stream",
     "text": [
      "index: 4384\n",
      "Lable: 2\n"
     ]
    },
    {
     "data": {
      "image/png": "[encoded data removed]",
      "text/plain": [
       "<Figure size 432x288 with 1 Axes>"
      ]
     },
     "metadata": {
      "needs_background": "light"
     },
     "output_type": "display_data"
    },
    {
     "name": "stdout",
     "output_type": "stream",
     "text": [
      "index: 3977\n",
      "Lable: 3\n"
     ]
    },
    {
     "data": {
      "image/png": "[encoded data removed]",
      "text/plain": [
       "<Figure size 432x288 with 1 Axes>"
      ]
     },
     "metadata": {
      "needs_background": "light"
     },
     "output_type": "display_data"
    },
    {
     "name": "stdout",
     "output_type": "stream",
     "text": [
      "index: 2798\n",
      "Lable: 5\n"
     ]
    },
    {
     "data": {
      "image/png": "[encoded data removed]",
      "text/plain": [
       "<Figure size 432x288 with 1 Axes>"
      ]
     },
     "metadata": {
      "needs_background": "light"
     },
     "output_type": "display_data"
    },
    {
     "name": "stdout",
     "output_type": "stream",
     "text": [
      "index: 2757\n",
      "Lable: 1\n"
     ]
    },
    {
     "data": {
      "image/png": "[encoded data removed]",
      "text/plain": [
       "<Figure size 432x288 with 1 Axes>"
      ]
     },
     "metadata": {
      "needs_background": "light"
     },
     "output_type": "display_data"
    },
    {
     "name": "stdout",
     "output_type": "stream",
     "text": [
      "index: 7439\n",
      "Lable: 7\n"
     ]
    },
    {
     "data": {
      "image/png": "[encoded data removed]",
      "text/plain": [
       "<Figure size 432x288 with 1 Axes>"
      ]
     },
     "metadata": {
      "needs_background": "light"
     },
     "output_type": "display_data"
    },
    {
     "name": "stdout",
     "output_type": "stream",
     "text": [
      "index: 4978\n",
      "Lable: 8\n"
     ]
    },
    {
     "data": {
      "image/png": "[encoded data removed]",
      "text/plain": [
       "<Figure size 432x288 with 1 Axes>"
      ]
     },
     "metadata": {
      "needs_background": "light"
     },
     "output_type": "display_data"
    },
    {
     "name": "stdout",
     "output_type": "stream",
     "text": [
      "___________________\n",
      "\n",
      "\n"
     ]
    }
   ],
   "source": [
    "# second element of both training and testing (dataset[0][1] and dataset[0][1])\n",
    "# represnts labels of the images, presents on the same index in images\n",
    "# For example dataset[0][0][0] is an image in training dataset\n",
    "# and dataset[0][1][0] is the label of same image is training dataset\n",
    "print(\"Randomly printing 10 images with labels from training dataset\")\n",
    "display_random_images_with_labels(dataset[0])\n",
    "print(\"___________________\\n\\n\")\n",
    "print(\"Randomly printing 10 images with labels from testing dataset\")\n",
    "display_random_images_with_labels(dataset[1])\n",
    "print(\"___________________\\n\\n\")"
   ]
  },
  {
   "cell_type": "code",
   "execution_count": 5,
   "metadata": {},
   "outputs": [
    {
     "name": "stdout",
     "output_type": "stream",
     "text": [
      "There are 60000 labels in training dataset for 60000 images in training dataset\n",
      "There are 10000 labels in testing dataset for 10000 images in testing dataset\n",
      "___________________\n",
      "\n",
      "\n"
     ]
    }
   ],
   "source": [
    "print(\"There are\",len(dataset[0][1]),\"labels in training dataset for\",len(dataset[0][0]),\"images in training dataset\")\n",
    "print(\"There are\",len(dataset[1][1]),\"labels in testing dataset for\",len(dataset[1][0]),\"images in testing dataset\")\n",
    "print(\"___________________\\n\\n\")"
   ]
  },
  {
   "cell_type": "code",
   "execution_count": 6,
   "metadata": {},
   "outputs": [
    {
     "name": "stdout",
     "output_type": "stream",
     "text": [
      "There are 10 unique classes in training dataset\n",
      "Breakdown of each labels is below (format: dict key is label, dict value is occurrence of that label/ number of images for that label)\n"
     ]
    },
    {
     "data": {
      "text/plain": [
       "Counter({5: 5421,\n",
       "         0: 5923,\n",
       "         4: 5842,\n",
       "         1: 6742,\n",
       "         9: 5949,\n",
       "         2: 5958,\n",
       "         3: 6131,\n",
       "         6: 5918,\n",
       "         7: 6265,\n",
       "         8: 5851})"
      ]
     },
     "metadata": {},
     "output_type": "display_data"
    }
   ],
   "source": [
    "print(\"There are\", len(set(dataset[0][1])),\"unique classes in training dataset\")\n",
    "print(\"Breakdown of each labels is below (format: dict key is label, dict value is occurrence of that label/ number of images for that label)\")\n",
    "display(collections.Counter(dataset[0][1]))"
   ]
  },
  {
   "cell_type": "code",
   "execution_count": 7,
   "metadata": {},
   "outputs": [
    {
     "name": "stdout",
     "output_type": "stream",
     "text": [
      "There are 10 unique classes in validation dataset\n",
      "Breakdown of each labels is below (format: dict key is label, dict value is occurrence of that label/ number of images for that label)\n"
     ]
    },
    {
     "data": {
      "text/plain": [
       "Counter({7: 1028,\n",
       "         2: 1032,\n",
       "         1: 1135,\n",
       "         0: 980,\n",
       "         4: 982,\n",
       "         9: 1009,\n",
       "         5: 892,\n",
       "         6: 958,\n",
       "         3: 1010,\n",
       "         8: 974})"
      ]
     },
     "metadata": {},
     "output_type": "display_data"
    },
    {
     "name": "stdout",
     "output_type": "stream",
     "text": [
      "___________________\n",
      "\n",
      "\n"
     ]
    }
   ],
   "source": [
    "print(\"There are\", len(set(dataset[1][1])),\"unique classes in validation dataset\")\n",
    "print(\"Breakdown of each labels is below (format: dict key is label, dict value is occurrence of that label/ number of images for that label)\")\n",
    "display(collections.Counter(dataset[1][1]))\n",
    "print(\"___________________\\n\\n\")"
   ]
  },
  {
   "cell_type": "code",
   "execution_count": 19,
   "metadata": {},
   "outputs": [
    {
     "name": "stdout",
     "output_type": "stream",
     "text": [
      "Shape of the reduced training images: (6000, 28, 28)\n",
      "Shape of the reduced training labels: (6000,)\n"
     ]
    }
   ],
   "source": [
    "original_train_images, original_train_labels = dataset[0]\n",
    "original_test_images, original_test_labels = dataset[1]\n",
    "\n",
    "# Define the number of samples you want to keep for training and testing\n",
    "num_samples_train = 6000\n",
    "num_samples_test = 1000\n",
    "\n",
    "\n",
    "# Reduce the training dataset while maintaining equal distribution of classes\n",
    "reduced_train_images = []\n",
    "reduced_train_labels = []\n",
    "for digit in range(10):\n",
    "    digit_indices = np.where(original_train_labels == digit)[0]\n",
    "    digit_indices = np.random.choice(digit_indices, num_samples_train // 10, replace=False)\n",
    "    reduced_train_images.extend(original_train_images[digit_indices])\n",
    "    reduced_train_labels.extend(original_train_labels[digit_indices])\n",
    "\n",
    "# Convert the lists to numpy arrays\n",
    "reduced_train_images = np.array(reduced_train_images)\n",
    "reduced_train_labels = np.array(reduced_train_labels)\n",
    "\n",
    "# Shuffle the reduced training dataset\n",
    "shuffle_indices = np.arange(len(reduced_train_images))\n",
    "np.random.shuffle(shuffle_indices)\n",
    "reduced_train_images = reduced_train_images[shuffle_indices]\n",
    "reduced_train_labels = reduced_train_labels[shuffle_indices]\n",
    "\n",
    "# Print the shapes of the reduced datasets\n",
    "print(\"Shape of the reduced training images:\", reduced_train_images.shape)\n",
    "print(\"Shape of the reduced training labels:\", reduced_train_labels.shape)\n"
   ]
  },
  {
   "cell_type": "code",
   "execution_count": 20,
   "metadata": {},
   "outputs": [
    {
     "name": "stdout",
     "output_type": "stream",
     "text": [
      "Shape of the reduced testing images: (1000, 28, 28)\n",
      "Shape of the reduced testing labels: (1000,)\n"
     ]
    }
   ],
   "source": [
    "# Reduce the testing dataset while maintaining equal distribution of classes\n",
    "reduced_test_images = []\n",
    "reduced_test_labels = []\n",
    "for digit in range(10):\n",
    "    digit_indices = np.where(original_test_labels == digit)[0]\n",
    "    digit_indices = np.random.choice(digit_indices, num_samples_test // 10, replace=False)\n",
    "    reduced_test_images.extend(original_test_images[digit_indices])\n",
    "    reduced_test_labels.extend(original_test_labels[digit_indices])\n",
    "\n",
    "# Convert the lists to numpy arrays\n",
    "reduced_test_images = np.array(reduced_test_images)\n",
    "reduced_test_labels = np.array(reduced_test_labels)\n",
    "\n",
    "# Shuffle the reduced testing dataset\n",
    "shuffle_indices = np.arange(len(reduced_test_images))\n",
    "np.random.shuffle(shuffle_indices)\n",
    "reduced_test_images = reduced_test_images[shuffle_indices]\n",
    "reduced_test_labels = reduced_test_labels[shuffle_indices]\n",
    "\n",
    "# Print the shapes of the reduced datasets\n",
    "print(\"Shape of the reduced testing images:\", reduced_test_images.shape)\n",
    "print(\"Shape of the reduced testing labels:\", reduced_test_labels.shape)"
   ]
  },
  {
   "cell_type": "code",
   "execution_count": 21,
   "metadata": {},
   "outputs": [
    {
     "name": "stdout",
     "output_type": "stream",
     "text": [
      "Distribution of training dataset:\n",
      "Counter({0: 600, 1: 600, 3: 600, 9: 600, 4: 600, 2: 600, 8: 600, 6: 600, 5: 600, 7: 600})\n",
      "\n",
      "Distribution of testing dataset:\n",
      "Counter({7: 100, 1: 100, 5: 100, 3: 100, 9: 100, 2: 100, 0: 100, 6: 100, 8: 100, 4: 100})\n"
     ]
    }
   ],
   "source": [
    "import collections\n",
    "\n",
    "\n",
    "# Print the distribution of classes in the reduced training dataset\n",
    "print(\"Distribution of training dataset:\")\n",
    "print(collections.Counter(reduced_train_labels))\n",
    "\n",
    "# Print the distribution of classes in the reduced testing dataset\n",
    "print(\"\\nDistribution of testing dataset:\")\n",
    "print(collections.Counter(reduced_test_labels))"
   ]
  },
  {
   "cell_type": "code",
   "execution_count": 22,
   "metadata": {},
   "outputs": [
    {
     "name": "stdout",
     "output_type": "stream",
     "text": [
      "(28, 28)\n",
      "___________________\n",
      "There are 60000 labels in training dataset for 60000 images in training dataset\n",
      "There are 10000 labels in training dataset for 10000 images in training dataset\n",
      "___________________\n",
      "\n",
      "\n",
      "There are 10 unique classes in training dataset\n",
      "Breakdown of each labels is below (format: dict key is label, dict value is occurrence of that label/ number of images for that label)\n"
     ]
    },
    {
     "data": {
      "text/plain": [
       "Counter({0: 600,\n",
       "         1: 600,\n",
       "         3: 600,\n",
       "         9: 600,\n",
       "         4: 600,\n",
       "         2: 600,\n",
       "         8: 600,\n",
       "         6: 600,\n",
       "         5: 600,\n",
       "         7: 600})"
      ]
     },
     "metadata": {},
     "output_type": "display_data"
    },
    {
     "name": "stdout",
     "output_type": "stream",
     "text": [
      "There are 10 unique classes in validation dataset\n",
      "Breakdown of each labels is below (format: dict key is label, dict value is occurrence of that label/ number of images for that label)\n"
     ]
    },
    {
     "data": {
      "text/plain": [
       "Counter({7: 100,\n",
       "         1: 100,\n",
       "         5: 100,\n",
       "         3: 100,\n",
       "         9: 100,\n",
       "         2: 100,\n",
       "         0: 100,\n",
       "         6: 100,\n",
       "         8: 100,\n",
       "         4: 100})"
      ]
     },
     "metadata": {},
     "output_type": "display_data"
    },
    {
     "name": "stdout",
     "output_type": "stream",
     "text": [
      "___________________\n",
      "\n",
      "\n",
      "Randomly printing 10 images with labels from training dataset\n",
      "index: 1344\n",
      "Lable: 0\n"
     ]
    },
    {
     "data": {
      "image/png": "[encoded data removed]",
      "text/plain": [
       "<Figure size 432x288 with 1 Axes>"
      ]
     },
     "metadata": {
      "needs_background": "light"
     },
     "output_type": "display_data"
    },
    {
     "name": "stdout",
     "output_type": "stream",
     "text": [
      "index: 5074\n",
      "Lable: 2\n"
     ]
    },
    {
     "data": {
      "image/png": "[encoded data removed]",
      "text/plain": [
       "<Figure size 432x288 with 1 Axes>"
      ]
     },
     "metadata": {
      "needs_background": "light"
     },
     "output_type": "display_data"
    },
    {
     "name": "stdout",
     "output_type": "stream",
     "text": [
      "index: 82\n",
      "Lable: 8\n"
     ]
    },
    {
     "data": {
      "image/png": "[encoded data removed]",
      "text/plain": [
       "<Figure size 432x288 with 1 Axes>"
      ]
     },
     "metadata": {
      "needs_background": "light"
     },
     "output_type": "display_data"
    },
    {
     "name": "stdout",
     "output_type": "stream",
     "text": [
      "index: 5755\n",
      "Lable: 7\n"
     ]
    },
    {
     "data": {
      "image/png": "[encoded data removed]",
      "text/plain": [
       "<Figure size 432x288 with 1 Axes>"
      ]
     },
     "metadata": {
      "needs_background": "light"
     },
     "output_type": "display_data"
    },
    {
     "name": "stdout",
     "output_type": "stream",
     "text": [
      "index: 5619\n",
      "Lable: 7\n"
     ]
    },
    {
     "data": {
      "image/png": "[encoded data removed]",
      "text/plain": [
       "<Figure size 432x288 with 1 Axes>"
      ]
     },
     "metadata": {
      "needs_background": "light"
     },
     "output_type": "display_data"
    },
    {
     "name": "stdout",
     "output_type": "stream",
     "text": [
      "index: 1232\n",
      "Lable: 3\n"
     ]
    },
    {
     "data": {
      "image/png": "[encoded data removed]",
      "text/plain": [
       "<Figure size 432x288 with 1 Axes>"
      ]
     },
     "metadata": {
      "needs_background": "light"
     },
     "output_type": "display_data"
    },
    {
     "name": "stdout",
     "output_type": "stream",
     "text": [
      "index: 5048\n",
      "Lable: 0\n"
     ]
    },
    {
     "data": {
      "image/png": "[encoded data removed]",
      "text/plain": [
       "<Figure size 432x288 with 1 Axes>"
      ]
     },
     "metadata": {
      "needs_background": "light"
     },
     "output_type": "display_data"
    },
    {
     "name": "stdout",
     "output_type": "stream",
     "text": [
      "index: 1873\n",
      "Lable: 0\n"
     ]
    },
    {
     "data": {
      "image/png": "[encoded data removed]",
      "text/plain": [
       "<Figure size 432x288 with 1 Axes>"
      ]
     },
     "metadata": {
      "needs_background": "light"
     },
     "output_type": "display_data"
    },
    {
     "name": "stdout",
     "output_type": "stream",
     "text": [
      "index: 1169\n",
      "Lable: 2\n"
     ]
    },
    {
     "data": {
      "image/png": "[encoded data removed]",
      "text/plain": [
       "<Figure size 432x288 with 1 Axes>"
      ]
     },
     "metadata": {
      "needs_background": "light"
     },
     "output_type": "display_data"
    },
    {
     "name": "stdout",
     "output_type": "stream",
     "text": [
      "index: 5164\n",
      "Lable: 3\n"
     ]
    },
    {
     "data": {
      "image/png": "[encoded data removed]",
      "text/plain": [
       "<Figure size 432x288 with 1 Axes>"
      ]
     },
     "metadata": {
      "needs_background": "light"
     },
     "output_type": "display_data"
    },
    {
     "name": "stdout",
     "output_type": "stream",
     "text": [
      "___________________\n",
      "\n",
      "\n",
      "Randomly printing 10 images with labels from testing dataset\n",
      "index: 2\n",
      "Lable: 5\n"
     ]
    },
    {
     "data": {
      "image/png": "[encoded data removed]",
      "text/plain": [
       "<Figure size 432x288 with 1 Axes>"
      ]
     },
     "metadata": {
      "needs_background": "light"
     },
     "output_type": "display_data"
    },
    {
     "name": "stdout",
     "output_type": "stream",
     "text": [
      "index: 386\n",
      "Lable: 7\n"
     ]
    },
    {
     "data": {
      "image/png": "[encoded data removed]",
      "text/plain": [
       "<Figure size 432x288 with 1 Axes>"
      ]
     },
     "metadata": {
      "needs_background": "light"
     },
     "output_type": "display_data"
    },
    {
     "name": "stdout",
     "output_type": "stream",
     "text": [
      "index: 175\n",
      "Lable: 3\n"
     ]
    },
    {
     "data": {
      "image/png": "[encoded data removed]",
      "text/plain": [
       "<Figure size 432x288 with 1 Axes>"
      ]
     },
     "metadata": {
      "needs_background": "light"
     },
     "output_type": "display_data"
    },
    {
     "name": "stdout",
     "output_type": "stream",
     "text": [
      "index: 871\n",
      "Lable: 7\n"
     ]
    },
    {
     "data": {
      "image/png": "[encoded data removed]",
      "text/plain": [
       "<Figure size 432x288 with 1 Axes>"
      ]
     },
     "metadata": {
      "needs_background": "light"
     },
     "output_type": "display_data"
    },
    {
     "name": "stdout",
     "output_type": "stream",
     "text": [
      "index: 109\n",
      "Lable: 3\n"
     ]
    },
    {
     "data": {
      "image/png": "[encoded data removed]",
      "text/plain": [
       "<Figure size 432x288 with 1 Axes>"
      ]
     },
     "metadata": {
      "needs_background": "light"
     },
     "output_type": "display_data"
    },
    {
     "name": "stdout",
     "output_type": "stream",
     "text": [
      "index: 134\n",
      "Lable: 8\n"
     ]
    },
    {
     "data": {
      "image/png": "[encoded data removed]",
      "text/plain": [
       "<Figure size 432x288 with 1 Axes>"
      ]
     },
     "metadata": {
      "needs_background": "light"
     },
     "output_type": "display_data"
    },
    {
     "name": "stdout",
     "output_type": "stream",
     "text": [
      "index: 112\n",
      "Lable: 3\n"
     ]
    },
    {
     "data": {
      "image/png": "[encoded data removed]",
      "text/plain": [
       "<Figure size 432x288 with 1 Axes>"
      ]
     },
     "metadata": {
      "needs_background": "light"
     },
     "output_type": "display_data"
    },
    {
     "name": "stdout",
     "output_type": "stream",
     "text": [
      "index: 629\n",
      "Lable: 5\n"
     ]
    },
    {
     "data": {
      "image/png": "[encoded data removed]",
      "text/plain": [
       "<Figure size 432x288 with 1 Axes>"
      ]
     },
     "metadata": {
      "needs_background": "light"
     },
     "output_type": "display_data"
    },
    {
     "name": "stdout",
     "output_type": "stream",
     "text": [
      "index: 840\n",
      "Lable: 1\n"
     ]
    },
    {
     "data": {
      "image/png": "[encoded data removed]",
      "text/plain": [
       "<Figure size 432x288 with 1 Axes>"
      ]
     },
     "metadata": {
      "needs_background": "light"
     },
     "output_type": "display_data"
    },
    {
     "name": "stdout",
     "output_type": "stream",
     "text": [
      "index: 266\n",
      "Lable: 9\n"
     ]
    },
    {
     "data": {
      "image/png": "[encoded data removed]",
      "text/plain": [
       "<Figure size 432x288 with 1 Axes>"
      ]
     },
     "metadata": {
      "needs_background": "light"
     },
     "output_type": "display_data"
    },
    {
     "name": "stdout",
     "output_type": "stream",
     "text": [
      "___________________\n",
      "\n",
      "\n"
     ]
    }
   ],
   "source": [
    "# Checking the shape of first image in new training dataset\n",
    "print(dataset[0][0][0].shape)\n",
    "print(\"___________________\")\n",
    "\n",
    "\n",
    "# Checking the size of dataset\n",
    "print(\"There are\",len(dataset[0][1]),\"labels in training dataset for\",len(dataset[0][0]),\"images in training dataset\")\n",
    "print(\"There are\",len(dataset[1][1]),\"labels in training dataset for\",len(dataset[1][0]),\"images in training dataset\")\n",
    "print(\"___________________\\n\\n\")\n",
    "# Excepted output\n",
    "# There are 6000 labels in training dataset for 6000 images in training dataset\n",
    "# There are 1000 labels in training dataset for 1000 images in training dataset\n",
    "\n",
    "\n",
    "\n",
    "\n",
    "# Checking the number of images per class\n",
    "print(\"There are\", len(set(reduced_train_labels)),\"unique classes in training dataset\")\n",
    "print(\"Breakdown of each labels is below (format: dict key is label, dict value is occurrence of that label/ number of images for that label)\")\n",
    "display(collections.Counter(reduced_train_labels))\n",
    "print(\"There are\", len(set(reduced_test_labels)),\"unique classes in validation dataset\")\n",
    "print(\"Breakdown of each labels is below (format: dict key is label, dict value is occurrence of that label/ number of images for that label)\")\n",
    "display(collections.Counter(reduced_test_labels))\n",
    "print(\"___________________\\n\\n\")\n",
    "# Expected output\n",
    "# There are 10 unique classes in training dataset\n",
    "# Breakdown of each labels is below (format: dict key is label, dict value is occurrence of that label/ number of images for that label)\n",
    "# Counter({0: 600,\n",
    "#          1: 600,\n",
    "#          2: 600,\n",
    "#          3: 600,\n",
    "#          4: 600,\n",
    "#          5: 600,\n",
    "#          6: 600,\n",
    "#          7: 600,\n",
    "#          8: 600,\n",
    "#          9: 600})\n",
    "# There are 10 unique classes in validation dataset\n",
    "# Breakdown of each labels is below (format: dict key is label, dict value is occurrence of that label/ number of images for that label)\n",
    "# Counter({0: 100,\n",
    "#          1: 100,\n",
    "#          2: 100,\n",
    "#          3: 100,\n",
    "#          4: 100,\n",
    "#          5: 100,\n",
    "#          6: 100,\n",
    "#          7: 100,\n",
    "#          8: 100,\n",
    "#          9: 100})\n",
    "\n",
    "\n",
    "# Checking the correctness of indexing of image and its labels\n",
    "print(\"Randomly printing 10 images with labels from training dataset\")\n",
    "display_random_images_with_labels((reduced_train_images, reduced_train_labels))\n",
    "print(\"___________________\\n\\n\")\n",
    "print(\"Randomly printing 10 images with labels from testing dataset\")\n",
    "display_random_images_with_labels((reduced_test_images, reduced_test_labels))\n",
    "print(\"___________________\\n\\n\")"
   ]
  },
  {
   "cell_type": "code",
   "execution_count": null,
   "metadata": {},
   "outputs": [],
   "source": []
  }
 ],
 "metadata": {
  "kernelspec": {
   "display_name": "Python 3 (ipykernel)",
   "language": "python",
   "name": "python3"
  },
  "language_info": {
   "codemirror_mode": {
    "name": "ipython",
    "version": 3
   },
   "file_extension": ".py",
   "mimetype": "text/x-python",
   "name": "python",
   "nbconvert_exporter": "python",
   "pygments_lexer": "ipython3",
   "version": "3.9.12"
  }
 },
 "nbformat": 4,
 "nbformat_minor": 2
}
