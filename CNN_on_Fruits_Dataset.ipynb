{
 "cells": [
  {
   "cell_type": "code",
   "execution_count": 1,
   "id": "535e4b7d",
   "metadata": {},
   "outputs": [],
   "source": [
    "# docker-python\n",
    "# For example, here's several helpful packages to load\n",
    "\n",
    "import numpy as np # linear algebra\n",
    "import pandas as pd # data processing, CSV file I/O (e.g. pd.read_csv)\n",
    "\n",
    "# Input data files are available in the read-only \"../input/\" directory\n",
    "# For example, running this (by clicking run or pressing Shift+Enter) will list all files under the input directory\n",
    "\n",
    "import os\n",
    "for dirname, _, filenames in os.walk('/kaggle/input'):\n",
    "    for filename in filenames:\n",
    "        print(os.path.join(dirname, filename))"
   ]
  },
  {
   "cell_type": "code",
   "execution_count": 2,
   "id": "9d11dea3",
   "metadata": {},
   "outputs": [
    {
     "name": "stdout",
     "output_type": "stream",
     "text": [
      "Requirement already satisfied: keras_preprocessing in c:\\users\\hamza bhatti\\anaconda3\\lib\\site-packages (1.1.2)\n",
      "Requirement already satisfied: numpy>=1.9.1 in c:\\users\\hamza bhatti\\anaconda3\\lib\\site-packages (from keras_preprocessing) (1.24.3)\n",
      "Requirement already satisfied: six>=1.9.0 in c:\\users\\hamza bhatti\\anaconda3\\lib\\site-packages (from keras_preprocessing) (1.16.0)\n"
     ]
    }
   ],
   "source": [
    "!pip install keras_preprocessing"
   ]
  },
  {
   "cell_type": "code",
   "execution_count": 3,
   "id": "d64e30b3",
   "metadata": {},
   "outputs": [
    {
     "name": "stdout",
     "output_type": "stream",
     "text": [
      "WARNING:tensorflow:From C:\\Users\\Hamza Bhatti\\anaconda3\\Lib\\site-packages\\keras\\src\\losses.py:2976: The name tf.losses.sparse_softmax_cross_entropy is deprecated. Please use tf.compat.v1.losses.sparse_softmax_cross_entropy instead.\n",
      "\n"
     ]
    }
   ],
   "source": [
    "import tensorflow as tf\n",
    "import tensorflow.keras as keras\n",
    "from tensorflow.keras import layers\n",
    "from tensorflow.keras import callbacks\n",
    "from tensorflow.keras.layers import *\n",
    "from tensorflow.keras.models import * \n",
    "from tensorflow.keras.callbacks import ModelCheckpoint, EarlyStopping\n",
    "import matplotlib.pyplot as plt\n",
    "import matplotlib.image  as mpimg\n",
    "from keras.preprocessing import image\n",
    "from keras_preprocessing.image import ImageDataGenerator\n",
    "from keras import Sequential\n",
    "from tensorflow.keras.optimizers import RMSprop\n",
    "import glob as gb"
   ]
  },
  {
   "cell_type": "code",
   "execution_count": 4,
   "id": "c625ca39",
   "metadata": {},
   "outputs": [
    {
     "name": "stdout",
     "output_type": "stream",
     "text": [
      "13\n",
      "12\n",
      "15\n"
     ]
    }
   ],
   "source": [
    "trainpath = \"MY_data/train\"\n",
    "testpath = \"MY_data/test\"\n",
    "predpath = \"MY_data/predict\"\n",
    "\n",
    "print(len(trainpath))\n",
    "print(len(testpath))\n",
    "print(len(predpath))"
   ]
  },
  {
   "cell_type": "code",
   "execution_count": 5,
   "id": "18d0ffa6",
   "metadata": {},
   "outputs": [
    {
     "name": "stdout",
     "output_type": "stream",
     "text": [
      "For training data, found 230 in folder Apple\n",
      "For training data, found 230 in folder avocado\n",
      "For training data, found 230 in folder Banana\n",
      "For training data, found 230 in folder cherry\n",
      "For training data, found 230 in folder kiwi\n",
      "For training data, found 231 in folder mango\n",
      "For training data, found 230 in folder orange\n",
      "For training data, found 230 in folder pinenapple\n",
      "For training data, found 230 in folder strawberries\n",
      "For training data, found 230 in folder watermelon\n"
     ]
    }
   ],
   "source": [
    "import os\n",
    "\n",
    "# Assuming 'MY_data' is a subdirectory in the current working directory\n",
    "trainpath = r'MY_data\\train'\n",
    "\n",
    "for folder in os.listdir(trainpath):\n",
    "    files = gb.glob(pathname=os.path.join(trainpath, folder, '*.jpeg'))\n",
    "    print(f\"For training data, found {len(files)} in folder {folder}\")"
   ]
  },
  {
   "cell_type": "code",
   "execution_count": 6,
   "id": "50962581",
   "metadata": {},
   "outputs": [
    {
     "name": "stdout",
     "output_type": "stream",
     "text": [
      "for training data , found 0 in folder apple\n",
      "for training data , found 0 in folder avocado\n",
      "for training data , found 0 in folder banana\n",
      "for training data , found 0 in folder cherry\n",
      "for training data , found 0 in folder kiwi\n",
      "for training data , found 0 in folder mango\n",
      "for training data , found 0 in folder orange\n",
      "for training data , found 0 in folder pinenapple\n",
      "for training data , found 0 in folder stawberries\n",
      "for training data , found 0 in folder watermelon\n"
     ]
    }
   ],
   "source": [
    "for folder in os.listdir(testpath):\n",
    "    files = gb.glob(pathname=str(testpath+folder + \"/*.jpeg\"))\n",
    "    print(f\"for training data , found {len(files)} in folder {folder}\")"
   ]
  },
  {
   "cell_type": "code",
   "execution_count": 7,
   "id": "054d14a5",
   "metadata": {},
   "outputs": [
    {
     "name": "stdout",
     "output_type": "stream",
     "text": [
      "48\n"
     ]
    }
   ],
   "source": [
    "files = gb.glob(pathname=str(predpath+\"/*.jpeg\"))\n",
    "print(len(files))"
   ]
  },
  {
   "cell_type": "code",
   "execution_count": 8,
   "id": "846ab87d",
   "metadata": {},
   "outputs": [
    {
     "data": {
      "text/plain": [
       "'0:Apple,1:Banana,2:avocado,3:cherry,4:kiwi,5:mango,6:orange,7:pinenapple,8:strawberries,9:watermelon'"
      ]
     },
     "execution_count": 8,
     "metadata": {},
     "output_type": "execute_result"
    }
   ],
   "source": [
    "classes=sorted(os.listdir(trainpath))\n",
    "\",\".join([f\"{i}:{c}\" for i,c in enumerate(classes)])"
   ]
  },
  {
   "cell_type": "code",
   "execution_count": 9,
   "id": "20c46177",
   "metadata": {},
   "outputs": [
    {
     "name": "stdout",
     "output_type": "stream",
     "text": [
      "Found 1841 images belonging to 10 classes.\n",
      "Found 460 images belonging to 10 classes.\n",
      "Found 1025 images belonging to 10 classes.\n"
     ]
    }
   ],
   "source": [
    "TRAINING_DIR = trainpath\n",
    "TESTING_DIR = testpath\n",
    "\n",
    "train_datagen = ImageDataGenerator(\n",
    "        rotation_range=15,\n",
    "        shear_range=0.2,\n",
    "        zoom_range=0.2,\n",
    "        horizontal_flip=True,\n",
    "        fill_mode='nearest',\n",
    "        width_shift_range=0.1,\n",
    "        height_shift_range=0.1,\n",
    "        rescale=1./255,\n",
    "        validation_split=0.2\n",
    "    )\n",
    "\n",
    "\n",
    "testing_datagen = ImageDataGenerator(\n",
    "        rotation_range=15,\n",
    "        shear_range=0.2,\n",
    "        zoom_range=0.2,\n",
    "        horizontal_flip=True,\n",
    "        fill_mode='nearest',\n",
    "        width_shift_range=0.1,\n",
    "        height_shift_range=0.1,\n",
    "        rescale=1./255\n",
    "    )\n",
    "\n",
    "train_generator = train_datagen.flow_from_directory(\n",
    "    TRAINING_DIR,\n",
    "    classes=classes,\n",
    "    color_mode=\"rgb\",\n",
    "    batch_size=64,\n",
    "    target_size=(256,256),\n",
    "    class_mode=\"categorical\",\n",
    "    subset=\"training\"\n",
    ")\n",
    "\n",
    "\n",
    "validation_generator = train_datagen.flow_from_directory(\n",
    "    TRAINING_DIR,\n",
    "    classes=classes,\n",
    "    color_mode=\"rgb\",\n",
    "    batch_size=64,\n",
    "    target_size=(256,256),\n",
    "    class_mode=\"categorical\",\n",
    "    subset=\"validation\"\n",
    ")\n",
    "\n",
    "testing_generator = train_datagen.flow_from_directory(\n",
    "    TESTING_DIR,\n",
    "    classes=list(map(lambda x:x.lower().replace(\"strawberries\",\"stawberries\"),classes)),\n",
    "    color_mode=\"rgb\",\n",
    "    batch_size=64,\n",
    "    target_size=(256,256),\n",
    "    class_mode=\"categorical\"\n",
    ")"
   ]
  },
  {
   "cell_type": "code",
   "execution_count": 10,
   "id": "b417aba2",
   "metadata": {},
   "outputs": [
    {
     "name": "stdout",
     "output_type": "stream",
     "text": [
      "WARNING:tensorflow:From C:\\Users\\Hamza Bhatti\\anaconda3\\Lib\\site-packages\\keras\\src\\backend.py:873: The name tf.get_default_graph is deprecated. Please use tf.compat.v1.get_default_graph instead.\n",
      "\n",
      "WARNING:tensorflow:From C:\\Users\\Hamza Bhatti\\anaconda3\\Lib\\site-packages\\keras\\src\\layers\\pooling\\max_pooling2d.py:161: The name tf.nn.max_pool is deprecated. Please use tf.nn.max_pool2d instead.\n",
      "\n"
     ]
    },
    {
     "name": "stderr",
     "output_type": "stream",
     "text": [
      "WARNING:absl:`lr` is deprecated in Keras optimizer, please use `learning_rate` or use the legacy optimizer, e.g.,tf.keras.optimizers.legacy.Adam.\n"
     ]
    }
   ],
   "source": [
    "# USE AT LEAST 3 CONVOLUTION LAYERS\n",
    "model = tf.keras.models.Sequential([\n",
    "    #A good dose of augmentation so that training data is hard to memorize but not too much to make the learning difficult\n",
    "    layers.RandomRotation(0.1,input_shape=(256,256,3)),\n",
    "    layers.RandomZoom(0.1),\n",
    "    layers.RandomFlip(),\n",
    "    layers.GaussianNoise(0.03),\n",
    "    \n",
    "    #convolutional portion\n",
    "    layers.Conv2D(32, 3, activation='relu'),\n",
    "    layers.MaxPooling2D(4),\n",
    "    layers.Conv2D(64, 3,  activation='relu'),\n",
    "    layers.MaxPooling2D(4),\n",
    "    layers.Conv2D(128, 4,  activation='relu'),\n",
    "    layers.MaxPooling2D(4),\n",
    "    layers.Flatten(),\n",
    "    \n",
    "    #Dense portion, with high dropout rate for a high regualization\n",
    "    layers.Dense(128, activation='relu'),\n",
    "    layers.Dropout(0.5),\n",
    "    layers.Dense(64, activation='relu'),\n",
    "    layers.Dropout(0.3),\n",
    "    tf.keras.layers.Dense(len(classes), activation='softmax')\n",
    "])\n",
    "\n",
    "model.compile(optimizer=tf.keras.optimizers.Adam(lr=0.005), \n",
    "              loss=tf.keras.losses.CategoricalCrossentropy(), \n",
    "              metrics=['accuracy'])\n",
    "\n",
    "# add callbacks for early stopping and lr reduction during training \n",
    "callback_list=[\n",
    "    callbacks.EarlyStopping(monitor=\"val_accuracy\",patience=10,restore_best_weights=True),\n",
    "    callbacks.ReduceLROnPlateau(factor=0.8,monitor=\"val_accuracy\",patience=3)\n",
    "]"
   ]
  },
  {
   "cell_type": "code",
   "execution_count": 11,
   "id": "ed868249",
   "metadata": {},
   "outputs": [
    {
     "name": "stdout",
     "output_type": "stream",
     "text": [
      "Epoch 1/150\n",
      "WARNING:tensorflow:From C:\\Users\\Hamza Bhatti\\anaconda3\\Lib\\site-packages\\keras\\src\\utils\\tf_utils.py:492: The name tf.ragged.RaggedTensorValue is deprecated. Please use tf.compat.v1.ragged.RaggedTensorValue instead.\n",
      "\n"
     ]
    },
    {
     "name": "stderr",
     "output_type": "stream",
     "text": [
      "WARNING:tensorflow:From C:\\Users\\Hamza Bhatti\\anaconda3\\Lib\\site-packages\\keras\\src\\utils\\tf_utils.py:492: The name tf.ragged.RaggedTensorValue is deprecated. Please use tf.compat.v1.ragged.RaggedTensorValue instead.\n",
      "\n"
     ]
    },
    {
     "name": "stdout",
     "output_type": "stream",
     "text": [
      "WARNING:tensorflow:From C:\\Users\\Hamza Bhatti\\anaconda3\\Lib\\site-packages\\keras\\src\\engine\\base_layer_utils.py:384: The name tf.executing_eagerly_outside_functions is deprecated. Please use tf.compat.v1.executing_eagerly_outside_functions instead.\n",
      "\n"
     ]
    },
    {
     "name": "stderr",
     "output_type": "stream",
     "text": [
      "WARNING:tensorflow:From C:\\Users\\Hamza Bhatti\\anaconda3\\Lib\\site-packages\\keras\\src\\engine\\base_layer_utils.py:384: The name tf.executing_eagerly_outside_functions is deprecated. Please use tf.compat.v1.executing_eagerly_outside_functions instead.\n",
      "\n"
     ]
    },
    {
     "name": "stdout",
     "output_type": "stream",
     "text": [
      "29/29 [==============================] - 90s 3s/step - loss: 2.2731 - accuracy: 0.1244 - val_loss: 2.1514 - val_accuracy: 0.1870 - lr: 0.0010\n",
      "Epoch 2/150\n",
      "29/29 [==============================] - 83s 3s/step - loss: 2.1294 - accuracy: 0.1847 - val_loss: 1.9448 - val_accuracy: 0.2370 - lr: 0.0010\n",
      "Epoch 3/150\n",
      "29/29 [==============================] - 84s 3s/step - loss: 1.9887 - accuracy: 0.2189 - val_loss: 1.7677 - val_accuracy: 0.3283 - lr: 0.0010\n",
      "Epoch 4/150\n",
      "29/29 [==============================] - 83s 3s/step - loss: 1.8507 - accuracy: 0.2662 - val_loss: 1.6871 - val_accuracy: 0.3326 - lr: 0.0010\n",
      "Epoch 5/150\n",
      "29/29 [==============================] - 82s 3s/step - loss: 1.7800 - accuracy: 0.2770 - val_loss: 1.7204 - val_accuracy: 0.3152 - lr: 0.0010\n",
      "Epoch 6/150\n",
      "29/29 [==============================] - 83s 3s/step - loss: 1.7480 - accuracy: 0.2966 - val_loss: 1.5776 - val_accuracy: 0.3696 - lr: 0.0010\n",
      "Epoch 7/150\n",
      "29/29 [==============================] - 79s 3s/step - loss: 1.7019 - accuracy: 0.2982 - val_loss: 1.5554 - val_accuracy: 0.3957 - lr: 0.0010\n",
      "Epoch 8/150\n",
      "29/29 [==============================] - 80s 3s/step - loss: 1.6492 - accuracy: 0.3330 - val_loss: 1.5785 - val_accuracy: 0.3826 - lr: 0.0010\n",
      "Epoch 9/150\n",
      "29/29 [==============================] - 81s 3s/step - loss: 1.6644 - accuracy: 0.3221 - val_loss: 1.5138 - val_accuracy: 0.4261 - lr: 0.0010\n",
      "Epoch 10/150\n",
      "29/29 [==============================] - 81s 3s/step - loss: 1.6015 - accuracy: 0.3607 - val_loss: 1.4505 - val_accuracy: 0.4174 - lr: 0.0010\n",
      "Epoch 11/150\n",
      "29/29 [==============================] - 79s 3s/step - loss: 1.5921 - accuracy: 0.3639 - val_loss: 1.5587 - val_accuracy: 0.3913 - lr: 0.0010\n",
      "Epoch 12/150\n",
      "29/29 [==============================] - 80s 3s/step - loss: 1.6041 - accuracy: 0.3341 - val_loss: 1.5051 - val_accuracy: 0.4391 - lr: 0.0010\n",
      "Epoch 13/150\n",
      "29/29 [==============================] - 80s 3s/step - loss: 1.5770 - accuracy: 0.3726 - val_loss: 1.4187 - val_accuracy: 0.4522 - lr: 0.0010\n",
      "Epoch 14/150\n",
      "29/29 [==============================] - 80s 3s/step - loss: 1.5262 - accuracy: 0.3867 - val_loss: 1.4210 - val_accuracy: 0.4478 - lr: 0.0010\n",
      "Epoch 15/150\n",
      "29/29 [==============================] - 80s 3s/step - loss: 1.5372 - accuracy: 0.3835 - val_loss: 1.3946 - val_accuracy: 0.4826 - lr: 0.0010\n",
      "Epoch 16/150\n",
      "29/29 [==============================] - 80s 3s/step - loss: 1.5056 - accuracy: 0.3987 - val_loss: 1.3757 - val_accuracy: 0.5022 - lr: 0.0010\n",
      "Epoch 17/150\n",
      "29/29 [==============================] - 80s 3s/step - loss: 1.5002 - accuracy: 0.4112 - val_loss: 1.3822 - val_accuracy: 0.4783 - lr: 0.0010\n",
      "Epoch 18/150\n",
      "29/29 [==============================] - 80s 3s/step - loss: 1.4591 - accuracy: 0.4335 - val_loss: 1.3975 - val_accuracy: 0.4804 - lr: 0.0010\n",
      "Epoch 19/150\n",
      "29/29 [==============================] - 81s 3s/step - loss: 1.4219 - accuracy: 0.4460 - val_loss: 1.2915 - val_accuracy: 0.5022 - lr: 0.0010\n",
      "Epoch 20/150\n",
      "29/29 [==============================] - 92s 3s/step - loss: 1.3934 - accuracy: 0.4612 - val_loss: 1.3056 - val_accuracy: 0.5087 - lr: 8.0000e-04\n",
      "Epoch 21/150\n",
      "29/29 [==============================] - 81s 3s/step - loss: 1.3917 - accuracy: 0.4503 - val_loss: 1.2498 - val_accuracy: 0.5370 - lr: 8.0000e-04\n",
      "Epoch 22/150\n",
      "29/29 [==============================] - 83s 3s/step - loss: 1.4011 - accuracy: 0.4622 - val_loss: 1.3264 - val_accuracy: 0.5217 - lr: 8.0000e-04\n",
      "Epoch 23/150\n",
      "29/29 [==============================] - 83s 3s/step - loss: 1.3759 - accuracy: 0.4883 - val_loss: 1.2905 - val_accuracy: 0.5304 - lr: 8.0000e-04\n",
      "Epoch 24/150\n",
      "29/29 [==============================] - 81s 3s/step - loss: 1.3635 - accuracy: 0.4867 - val_loss: 1.3349 - val_accuracy: 0.5413 - lr: 8.0000e-04\n",
      "Epoch 25/150\n",
      "29/29 [==============================] - 80s 3s/step - loss: 1.3562 - accuracy: 0.4878 - val_loss: 1.2093 - val_accuracy: 0.5457 - lr: 8.0000e-04\n",
      "Epoch 26/150\n",
      "29/29 [==============================] - 80s 3s/step - loss: 1.3418 - accuracy: 0.4889 - val_loss: 1.1926 - val_accuracy: 0.5543 - lr: 8.0000e-04\n",
      "Epoch 27/150\n",
      "29/29 [==============================] - 80s 3s/step - loss: 1.3633 - accuracy: 0.4834 - val_loss: 1.1853 - val_accuracy: 0.5804 - lr: 8.0000e-04\n",
      "Epoch 28/150\n",
      "29/29 [==============================] - 81s 3s/step - loss: 1.2970 - accuracy: 0.5171 - val_loss: 1.1545 - val_accuracy: 0.5609 - lr: 8.0000e-04\n",
      "Epoch 29/150\n",
      "29/29 [==============================] - 80s 3s/step - loss: 1.2900 - accuracy: 0.5155 - val_loss: 1.1672 - val_accuracy: 0.5674 - lr: 8.0000e-04\n",
      "Epoch 30/150\n",
      "29/29 [==============================] - 80s 3s/step - loss: 1.2983 - accuracy: 0.5149 - val_loss: 1.1510 - val_accuracy: 0.5717 - lr: 8.0000e-04\n",
      "Epoch 31/150\n",
      "29/29 [==============================] - 83s 3s/step - loss: 1.2735 - accuracy: 0.5296 - val_loss: 1.1645 - val_accuracy: 0.5783 - lr: 6.4000e-04\n",
      "Epoch 32/150\n",
      "29/29 [==============================] - 80s 3s/step - loss: 1.2492 - accuracy: 0.5394 - val_loss: 1.0952 - val_accuracy: 0.6043 - lr: 6.4000e-04\n",
      "Epoch 33/150\n",
      "29/29 [==============================] - 84s 3s/step - loss: 1.2102 - accuracy: 0.5568 - val_loss: 1.0541 - val_accuracy: 0.6000 - lr: 6.4000e-04\n",
      "Epoch 34/150\n",
      "29/29 [==============================] - 80s 3s/step - loss: 1.1982 - accuracy: 0.5649 - val_loss: 1.0947 - val_accuracy: 0.6065 - lr: 6.4000e-04\n",
      "Epoch 35/150\n",
      "29/29 [==============================] - 79s 3s/step - loss: 1.1871 - accuracy: 0.5703 - val_loss: 1.0402 - val_accuracy: 0.6261 - lr: 6.4000e-04\n",
      "Epoch 36/150\n",
      "29/29 [==============================] - 80s 3s/step - loss: 1.1822 - accuracy: 0.5828 - val_loss: 1.0628 - val_accuracy: 0.6087 - lr: 6.4000e-04\n",
      "Epoch 37/150\n",
      "29/29 [==============================] - 80s 3s/step - loss: 1.1610 - accuracy: 0.5877 - val_loss: 1.0820 - val_accuracy: 0.5978 - lr: 6.4000e-04\n",
      "Epoch 38/150\n",
      "29/29 [==============================] - 80s 3s/step - loss: 1.1451 - accuracy: 0.5839 - val_loss: 1.0208 - val_accuracy: 0.6087 - lr: 6.4000e-04\n",
      "Epoch 39/150\n",
      "29/29 [==============================] - 80s 3s/step - loss: 1.1471 - accuracy: 0.6018 - val_loss: 0.9981 - val_accuracy: 0.6413 - lr: 5.1200e-04\n",
      "Epoch 40/150\n",
      "29/29 [==============================] - 83s 3s/step - loss: 1.1307 - accuracy: 0.5910 - val_loss: 1.0159 - val_accuracy: 0.6217 - lr: 5.1200e-04\n",
      "Epoch 41/150\n",
      "29/29 [==============================] - 79s 3s/step - loss: 1.0868 - accuracy: 0.6056 - val_loss: 0.9685 - val_accuracy: 0.6587 - lr: 5.1200e-04\n",
      "Epoch 42/150\n",
      "29/29 [==============================] - 79s 3s/step - loss: 1.0805 - accuracy: 0.6084 - val_loss: 0.9864 - val_accuracy: 0.6283 - lr: 5.1200e-04\n",
      "Epoch 43/150\n",
      "29/29 [==============================] - 81s 3s/step - loss: 1.0998 - accuracy: 0.6111 - val_loss: 1.0096 - val_accuracy: 0.6348 - lr: 5.1200e-04\n",
      "Epoch 44/150\n",
      "29/29 [==============================] - 79s 3s/step - loss: 1.0764 - accuracy: 0.6084 - val_loss: 0.9566 - val_accuracy: 0.6435 - lr: 5.1200e-04\n",
      "Epoch 45/150\n",
      "29/29 [==============================] - 80s 3s/step - loss: 1.0640 - accuracy: 0.6165 - val_loss: 1.0219 - val_accuracy: 0.6391 - lr: 4.0960e-04\n",
      "Epoch 46/150\n",
      "29/29 [==============================] - 80s 3s/step - loss: 1.0639 - accuracy: 0.6312 - val_loss: 0.9975 - val_accuracy: 0.6435 - lr: 4.0960e-04\n",
      "Epoch 47/150\n",
      "29/29 [==============================] - 80s 3s/step - loss: 1.0582 - accuracy: 0.6252 - val_loss: 0.9429 - val_accuracy: 0.6478 - lr: 4.0960e-04\n",
      "Epoch 48/150\n",
      "29/29 [==============================] - 80s 3s/step - loss: 1.0259 - accuracy: 0.6496 - val_loss: 1.0041 - val_accuracy: 0.6283 - lr: 3.2768e-04\n",
      "Epoch 49/150\n",
      "29/29 [==============================] - 80s 3s/step - loss: 1.0364 - accuracy: 0.6247 - val_loss: 0.9740 - val_accuracy: 0.6348 - lr: 3.2768e-04\n",
      "Epoch 50/150\n",
      "29/29 [==============================] - 80s 3s/step - loss: 1.0207 - accuracy: 0.6437 - val_loss: 0.9185 - val_accuracy: 0.6674 - lr: 3.2768e-04\n",
      "Epoch 51/150\n",
      "29/29 [==============================] - 80s 3s/step - loss: 1.0050 - accuracy: 0.6464 - val_loss: 0.9217 - val_accuracy: 0.6565 - lr: 3.2768e-04\n",
      "Epoch 52/150\n",
      "29/29 [==============================] - 81s 3s/step - loss: 1.0166 - accuracy: 0.6442 - val_loss: 0.9416 - val_accuracy: 0.6500 - lr: 3.2768e-04\n",
      "Epoch 53/150\n"
     ]
    },
    {
     "name": "stdout",
     "output_type": "stream",
     "text": [
      "29/29 [==============================] - 79s 3s/step - loss: 1.0118 - accuracy: 0.6323 - val_loss: 0.9362 - val_accuracy: 0.6717 - lr: 3.2768e-04\n",
      "Epoch 54/150\n",
      "29/29 [==============================] - 79s 3s/step - loss: 0.9976 - accuracy: 0.6551 - val_loss: 0.9008 - val_accuracy: 0.6609 - lr: 3.2768e-04\n",
      "Epoch 55/150\n",
      "29/29 [==============================] - 81s 3s/step - loss: 0.9948 - accuracy: 0.6480 - val_loss: 0.9359 - val_accuracy: 0.6696 - lr: 3.2768e-04\n",
      "Epoch 56/150\n",
      "29/29 [==============================] - 79s 3s/step - loss: 1.0166 - accuracy: 0.6382 - val_loss: 0.9723 - val_accuracy: 0.6413 - lr: 3.2768e-04\n",
      "Epoch 57/150\n",
      "29/29 [==============================] - 82s 3s/step - loss: 0.9875 - accuracy: 0.6556 - val_loss: 0.9117 - val_accuracy: 0.6630 - lr: 2.6214e-04\n",
      "Epoch 58/150\n",
      "29/29 [==============================] - 80s 3s/step - loss: 0.9713 - accuracy: 0.6567 - val_loss: 0.9004 - val_accuracy: 0.6717 - lr: 2.6214e-04\n",
      "Epoch 59/150\n",
      "29/29 [==============================] - 80s 3s/step - loss: 0.9670 - accuracy: 0.6621 - val_loss: 0.9233 - val_accuracy: 0.6630 - lr: 2.6214e-04\n",
      "Epoch 60/150\n",
      "29/29 [==============================] - 79s 3s/step - loss: 0.9819 - accuracy: 0.6556 - val_loss: 0.9472 - val_accuracy: 0.6587 - lr: 2.0972e-04\n",
      "Epoch 61/150\n",
      "29/29 [==============================] - 79s 3s/step - loss: 0.9619 - accuracy: 0.6594 - val_loss: 0.9143 - val_accuracy: 0.6739 - lr: 2.0972e-04\n",
      "Epoch 62/150\n",
      "29/29 [==============================] - 80s 3s/step - loss: 0.9557 - accuracy: 0.6524 - val_loss: 0.8681 - val_accuracy: 0.6870 - lr: 2.0972e-04\n",
      "Epoch 63/150\n",
      "29/29 [==============================] - 80s 3s/step - loss: 0.9179 - accuracy: 0.6692 - val_loss: 0.8837 - val_accuracy: 0.6891 - lr: 2.0972e-04\n",
      "Epoch 64/150\n",
      "29/29 [==============================] - 79s 3s/step - loss: 0.9468 - accuracy: 0.6670 - val_loss: 0.8809 - val_accuracy: 0.6826 - lr: 2.0972e-04\n",
      "Epoch 65/150\n",
      "29/29 [==============================] - 79s 3s/step - loss: 0.9526 - accuracy: 0.6670 - val_loss: 0.9096 - val_accuracy: 0.6522 - lr: 2.0972e-04\n",
      "Epoch 66/150\n",
      "29/29 [==============================] - 80s 3s/step - loss: 0.9445 - accuracy: 0.6578 - val_loss: 0.8845 - val_accuracy: 0.6826 - lr: 2.0972e-04\n",
      "Epoch 67/150\n",
      "29/29 [==============================] - 79s 3s/step - loss: 0.9206 - accuracy: 0.6687 - val_loss: 0.8736 - val_accuracy: 0.6783 - lr: 1.6777e-04\n",
      "Epoch 68/150\n",
      "29/29 [==============================] - 80s 3s/step - loss: 0.9415 - accuracy: 0.6746 - val_loss: 0.8718 - val_accuracy: 0.6522 - lr: 1.6777e-04\n",
      "Epoch 69/150\n",
      "29/29 [==============================] - 79s 3s/step - loss: 0.9097 - accuracy: 0.6812 - val_loss: 0.8776 - val_accuracy: 0.6935 - lr: 1.6777e-04\n",
      "Epoch 70/150\n",
      "29/29 [==============================] - 79s 3s/step - loss: 0.9394 - accuracy: 0.6687 - val_loss: 0.8801 - val_accuracy: 0.6848 - lr: 1.6777e-04\n",
      "Epoch 71/150\n",
      "29/29 [==============================] - 79s 3s/step - loss: 0.9213 - accuracy: 0.6893 - val_loss: 0.9036 - val_accuracy: 0.6739 - lr: 1.6777e-04\n",
      "Epoch 72/150\n",
      "29/29 [==============================] - 79s 3s/step - loss: 0.9293 - accuracy: 0.6741 - val_loss: 0.9002 - val_accuracy: 0.6783 - lr: 1.6777e-04\n",
      "Epoch 73/150\n",
      "29/29 [==============================] - 82s 3s/step - loss: 0.9076 - accuracy: 0.6812 - val_loss: 0.8622 - val_accuracy: 0.7043 - lr: 1.3422e-04\n",
      "Epoch 74/150\n",
      "29/29 [==============================] - 79s 3s/step - loss: 0.8954 - accuracy: 0.6909 - val_loss: 0.8415 - val_accuracy: 0.7022 - lr: 1.3422e-04\n",
      "Epoch 75/150\n",
      "29/29 [==============================] - 79s 3s/step - loss: 0.9067 - accuracy: 0.6795 - val_loss: 0.8789 - val_accuracy: 0.6783 - lr: 1.3422e-04\n",
      "Epoch 76/150\n",
      "29/29 [==============================] - 80s 3s/step - loss: 0.9312 - accuracy: 0.6703 - val_loss: 0.8653 - val_accuracy: 0.6826 - lr: 1.3422e-04\n",
      "Epoch 77/150\n",
      "29/29 [==============================] - 80s 3s/step - loss: 0.9320 - accuracy: 0.6844 - val_loss: 0.8396 - val_accuracy: 0.6848 - lr: 1.0737e-04\n",
      "Epoch 78/150\n",
      "29/29 [==============================] - 79s 3s/step - loss: 0.8907 - accuracy: 0.6871 - val_loss: 0.8727 - val_accuracy: 0.6783 - lr: 1.0737e-04\n",
      "Epoch 79/150\n",
      "29/29 [==============================] - 81s 3s/step - loss: 0.9212 - accuracy: 0.6594 - val_loss: 0.8511 - val_accuracy: 0.7000 - lr: 1.0737e-04\n",
      "Epoch 80/150\n",
      "29/29 [==============================] - 79s 3s/step - loss: 0.8700 - accuracy: 0.6719 - val_loss: 0.8505 - val_accuracy: 0.7000 - lr: 8.5899e-05\n",
      "Epoch 81/150\n",
      "29/29 [==============================] - 80s 3s/step - loss: 0.9094 - accuracy: 0.6822 - val_loss: 0.8341 - val_accuracy: 0.6935 - lr: 8.5899e-05\n",
      "Epoch 82/150\n",
      "29/29 [==============================] - 79s 3s/step - loss: 0.8962 - accuracy: 0.6871 - val_loss: 0.8646 - val_accuracy: 0.6783 - lr: 8.5899e-05\n",
      "Epoch 83/150\n",
      "29/29 [==============================] - 79s 3s/step - loss: 0.8623 - accuracy: 0.6893 - val_loss: 0.8443 - val_accuracy: 0.6913 - lr: 6.8719e-05\n"
     ]
    }
   ],
   "source": [
    "history = model.fit(train_generator,\n",
    "                    validation_data=validation_generator,\n",
    "                    epochs=150,\n",
    "                    verbose=1,\n",
    "                    callbacks=callback_list)"
   ]
  },
  {
   "cell_type": "code",
   "execution_count": 12,
   "id": "a55cbe09",
   "metadata": {},
   "outputs": [
    {
     "data": {
      "image/png": "[encoded data removed]",
      "text/plain": [
       "<Figure size 640x480 with 1 Axes>"
      ]
     },
     "metadata": {},
     "output_type": "display_data"
    },
    {
     "data": {
      "image/png": "[encoded data removed]",
      "text/plain": [
       "<Figure size 640x480 with 1 Axes>"
      ]
     },
     "metadata": {},
     "output_type": "display_data"
    }
   ],
   "source": [
    "#-----------------------------------------------------------\n",
    "# Retrieve a list of list results on training and test data\n",
    "# sets for each training epoch\n",
    "#-----------------------------------------------------------\n",
    "acc=history.history['accuracy']\n",
    "val_acc=history.history['val_accuracy']\n",
    "loss=history.history['loss']\n",
    "val_loss=history.history['val_loss']\n",
    "\n",
    "epochs=range(len(acc)) # Get number of epochs\n",
    "\n",
    "#------------------------------------------------\n",
    "# Plot training and validation accuracy per epoch\n",
    "#------------------------------------------------\n",
    "plt.plot(epochs, acc, 'bo', label='Training accuracy')\n",
    "plt.plot(epochs, val_acc, 'b', label='Validation accuracy')\n",
    "plt.title('Training and validation accuracy')\n",
    "plt.figure()\n",
    "\n",
    "#------------------------------------------------\n",
    "# Plot training and validation loss per epoch\n",
    "#------------------------------------------------\n",
    "plt.plot(epochs, loss, 'bo', label='Training Loss')\n",
    "plt.plot(epochs, val_loss, 'b', label='Validation Loss')\n",
    "plt.title('Training and validation loss')\n",
    "plt.legend()\n",
    "plt.show()\n",
    "\n",
    "# Desired output. Charts with training and validation metrics. No crash :)\n"
   ]
  },
  {
   "cell_type": "code",
   "execution_count": 13,
   "id": "6f3d50d1",
   "metadata": {},
   "outputs": [
    {
     "name": "stdout",
     "output_type": "stream",
     "text": [
      "17/17 [==============================] - 21s 1s/step - loss: 1.1274 - accuracy: 0.6517\n"
     ]
    },
    {
     "data": {
      "text/plain": [
       "[1.1274381875991821, 0.6517072916030884]"
      ]
     },
     "execution_count": 13,
     "metadata": {},
     "output_type": "execute_result"
    }
   ],
   "source": [
    "model.evaluate(testing_generator)"
   ]
  },
  {
   "cell_type": "code",
   "execution_count": 14,
   "id": "b0d16825",
   "metadata": {},
   "outputs": [
    {
     "name": "stdout",
     "output_type": "stream",
     "text": [
      "8/8 [==============================] - 10s 1s/step - loss: 0.8504 - accuracy: 0.7043\n"
     ]
    },
    {
     "data": {
      "text/plain": [
       "[0.8503910303115845, 0.7043478488922119]"
      ]
     },
     "execution_count": 14,
     "metadata": {},
     "output_type": "execute_result"
    }
   ],
   "source": [
    "model.evaluate(validation_generator)"
   ]
  },
  {
   "cell_type": "code",
   "execution_count": null,
   "id": "70277127",
   "metadata": {},
   "outputs": [],
   "source": []
  }
 ],
 "metadata": {
  "kernelspec": {
   "display_name": "Python 3 (ipykernel)",
   "language": "python",
   "name": "python3"
  },
  "language_info": {
   "codemirror_mode": {
    "name": "ipython",
    "version": 3
   },
   "file_extension": ".py",
   "mimetype": "text/x-python",
   "name": "python",
   "nbconvert_exporter": "python",
   "pygments_lexer": "ipython3",
   "version": "3.11.5"
  }
 },
 "nbformat": 4,
 "nbformat_minor": 5
}
