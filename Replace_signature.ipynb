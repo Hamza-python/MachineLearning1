{
 "cells": [
  {
   "cell_type": "code",
   "execution_count": 11,
   "id": "fa851eaa",
   "metadata": {},
   "outputs": [],
   "source": [
    "import os\n",
    "def process_image(image1_path, image2_path):\n",
    "    # Load the first image\n",
    "    image = cv2.imread(image1_path)\n",
    "    # Resize the image to 113x43\n",
    "    image = cv2.resize(image, (113, 43))\n",
    "    hsv = cv2.cvtColor(image, cv2.COLOR_BGR2HSV)\n",
    "    lower_black_gray = np.array([0, 0, 0])\n",
    "    upper_black_gray = np.array([100, 255, 100])\n",
    "    black_gray_mask = cv2.inRange(hsv, lower_black_gray, upper_black_gray)\n",
    "    # Load the second image\n",
    "    image_2 = cv2.imread(image2_path)\n",
    "    # Extract the roi from second image\n",
    "    left_upper = (367, 235)\n",
    "    right_bottom = (480, 278)\n",
    "    roi = image_2[left_upper[1]:right_bottom[1], left_upper[0]:right_bottom[0]]\n",
    "    roi[black_gray_mask != 0] = [0, 0, 0]\n",
    "    return image_2\n",
    "for filename in os.listdir(\"dataset\"):\n",
    "    if filename.endswith(('.jpg', '.jpeg', '.png', '.bmp')):\n",
    "        # Read the image\n",
    "        image1_path = os.path.join(\"dataset\", filename)\n",
    "        image2_path = \"idcard.jpg\"\n",
    "        image  = process_image(image1_path,image2_path)\n",
    "        output_path = os.path.join(\"id signs\", f\"ID_Card_{filename}\")\n",
    "        cv2.imwrite(output_path, image)"
   ]
  },
  {
   "cell_type": "code",
   "execution_count": null,
   "id": "c279047b",
   "metadata": {},
   "outputs": [],
   "source": []
  }
 ],
 "metadata": {
  "kernelspec": {
   "display_name": "Python 3 (ipykernel)",
   "language": "python",
   "name": "python3"
  },
  "language_info": {
   "codemirror_mode": {
    "name": "ipython",
    "version": 3
   },
   "file_extension": ".py",
   "mimetype": "text/x-python",
   "name": "python",
   "nbconvert_exporter": "python",
   "pygments_lexer": "ipython3",
   "version": "3.11.5"
  }
 },
 "nbformat": 4,
 "nbformat_minor": 5
}
