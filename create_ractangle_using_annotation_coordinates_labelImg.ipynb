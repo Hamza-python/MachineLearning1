{
 "cells": [
  {
   "cell_type": "code",
   "execution_count": 1,
   "id": "97b394cd",
   "metadata": {},
   "outputs": [],
   "source": [
    "import cv2\n",
    "import numpy as np\n",
    "import matplotlib.pyplot as plt"
   ]
  },
  {
   "cell_type": "code",
   "execution_count": 15,
   "id": "8c367840",
   "metadata": {},
   "outputs": [
    {
     "name": "stdout",
     "output_type": "stream",
     "text": [
      "Calculated Coordinates: 390 46 592 230\n"
     ]
    }
   ],
   "source": [
    "def draw_rectangle(image_path, coordinates):\n",
    "    # Read the image\n",
    "    img = cv2.imread(image_path)\n",
    "    # Extract coordinates\n",
    "    x1, y1, x2, y2 = coordinates\n",
    "    # Convert coordinates from normalized format to pixel values\n",
    "    height, width, _ = img.shape\n",
    "    x1_pixel = int((x1-x2/2) * width)\n",
    "    y1_pixel = int((y1-y2/2) * height)\n",
    "    x4_pixel = int((x1+x2/2) * width)\n",
    "    y4_pixel = int((y1+y2/2) * height)\n",
    "    # Print the calculated coordinates\n",
    "    print(\"Calculated Coordinates:\", x1_pixel, y1_pixel, x4_pixel, y4_pixel)\n",
    "    # Draw a rectangle on the image\n",
    "    color = (0, 255, 0)  # Green color (BGR)\n",
    "    thickness = 2\n",
    "    cv2.rectangle(img, (x1_pixel, y1_pixel), (x4_pixel, y4_pixel), color, thickness)\n",
    "    # Display the image with the rectangle\n",
    "    cv2.imshow('Image with Rectangle', img)\n",
    "    cv2.waitKey(0)\n",
    "    cv2.destroyAllWindows()\n",
    "# Example usage:\n",
    "coordinates = [0.671448, 0.252277, 0.277322, 0.336976]\n",
    "image_path = \"cat_dog/1.jpeg\"  # Replace with the actual path to your image\n",
    "draw_rectangle(image_path, coordinates)"
   ]
  },
  {
   "cell_type": "code",
   "execution_count": null,
   "id": "30ad246a",
   "metadata": {},
   "outputs": [],
   "source": []
  }
 ],
 "metadata": {
  "kernelspec": {
   "display_name": "annotation",
   "language": "python",
   "name": "annotation"
  },
  "language_info": {
   "codemirror_mode": {
    "name": "ipython",
    "version": 3
   },
   "file_extension": ".py",
   "mimetype": "text/x-python",
   "name": "python",
   "nbconvert_exporter": "python",
   "pygments_lexer": "ipython3",
   "version": "3.9.18"
  }
 },
 "nbformat": 4,
 "nbformat_minor": 5
}
