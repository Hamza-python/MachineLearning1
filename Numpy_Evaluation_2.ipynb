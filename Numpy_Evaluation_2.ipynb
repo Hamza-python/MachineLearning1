{
 "cells": [
  {
   "cell_type": "markdown",
   "id": "7ec98f23",
   "metadata": {},
   "source": [
    "### Questions 1\n",
    "\n",
    "Create a matrix of 5x5 with random integers, after that swap its first and last rows."
   ]
  },
  {
   "cell_type": "code",
   "execution_count": 2,
   "id": "fbab7daa",
   "metadata": {},
   "outputs": [
    {
     "name": "stdout",
     "output_type": "stream",
     "text": [
      "Before Swaping:\n",
      " [[40 37 79 42 50]\n",
      " [97 32 23  4 92]\n",
      " [52 37 84 16 24]\n",
      " [84 70 38 60 54]\n",
      " [71  5 47 76 96]]\n",
      "After swapping first and last rows:\n",
      " [[71  5 47 76 96]\n",
      " [97 32 23  4 92]\n",
      " [52 37 84 16 24]\n",
      " [84 70 38 60 54]\n",
      " [40 37 79 42 50]]\n"
     ]
    }
   ],
   "source": [
    "import numpy as np\n",
    "\n",
    "random_matrix = np.random.randint(1, 100, size=(5, 5))\n",
    "print(\"Before Swaping:\\n\", random_matrix)\n",
    "\n",
    "random_matrix[[0, -1], :] = random_matrix[[-1, 0], :]\n",
    "print(\"After swapping first and last rows:\\n\", random_matrix)"
   ]
  },
  {
   "cell_type": "markdown",
   "id": "804d6649",
   "metadata": {},
   "source": [
    "### Question 2\n",
    "\n",
    "Create a 2D array, remove all rows that contain at least one zero."
   ]
  },
  {
   "cell_type": "code",
   "execution_count": 5,
   "id": "26e7b7e4",
   "metadata": {},
   "outputs": [
    {
     "name": "stdout",
     "output_type": "stream",
     "text": [
      "Original Array:\n",
      "[[1 5 4]\n",
      " [6 0 1]\n",
      " [3 7 3]\n",
      " [5 0 6]]\n",
      "\n",
      "Array after removing rows with zeros:\n",
      "[[1 5 4]\n",
      " [3 7 3]]\n"
     ]
    }
   ],
   "source": [
    "twoD_array = np.array([[1, 5, 4],[6, 0, 1],[3, 7, 3],[5, 0, 6]])\n",
    "\n",
    "print(\"Original Array:\")\n",
    "print(twoD_array)\n",
    "\n",
    "filtered_rows = []\n",
    "for row in twoD_array:\n",
    "    if 0 not in row:\n",
    "        filtered_rows.append(row)\n",
    "\n",
    "filtered_array = np.array(filtered_rows)\n",
    "\n",
    "print(\"\\nArray after removing rows with zeros:\")\n",
    "print(filtered_array)\n"
   ]
  },
  {
   "cell_type": "markdown",
   "id": "2eaedae6",
   "metadata": {},
   "source": [
    "### Question 3\n",
    "\n",
    "Write a NumPy program to find the real and imaginary parts of an array of complex numbers.<br>\n",
    "Original array [ 1.00000000+0.j 0.70710678+0.70710678j]"
   ]
  },
  {
   "cell_type": "code",
   "execution_count": 24,
   "id": "5e2d4526",
   "metadata": {},
   "outputs": [
    {
     "name": "stdout",
     "output_type": "stream",
     "text": [
      "Original_array: \n",
      " [-1.6, -1.5, -0.3, 0.1, 1.4, 1.8, 2.0]\n",
      "Real part of Array: \n",
      " [1.         0.70710678]\n",
      "Imaginary part of the array: \n",
      " [0.         0.70710678]\n"
     ]
    }
   ],
   "source": [
    "\n",
    "original_array = np.array([1.00000000 + 0.j, 0.70710678 + 0.70710678j])\n",
    "real = np.real(original_array)\n",
    "imaginary = np.imag(original_array)\n",
    "print(\"Original_array: \\n\",Original_array)\n",
    "print(\"Real part of Array: \\n\",real)\n",
    "print(\"Imaginary part of the array: \\n\",imaginary)"
   ]
  },
  {
   "cell_type": "markdown",
   "id": "5d22a191",
   "metadata": {},
   "source": [
    "### Question 4\n",
    "\n",
    "Write a NumPy program to remove the duplicate elements of an array.<br>\n",
    "Original array:\n",
    "[10 10 20 20 30 30]\n"
   ]
  },
  {
   "cell_type": "code",
   "execution_count": 12,
   "id": "39a6deaf",
   "metadata": {},
   "outputs": [
    {
     "name": "stdout",
     "output_type": "stream",
     "text": [
      "[10 10 20 20 30 30]\n",
      "[10 20 30]\n"
     ]
    }
   ],
   "source": [
    "Original_array= np.array([10,10,20,20,30,30])\n",
    "\n",
    "def remove_duplicate(array):\n",
    "    unique_elements=[]\n",
    "    for element in Original_array:\n",
    "        if element not in unique_elements:\n",
    "            unique_elements.append(element)\n",
    "    return np.array(unique_elements)\n",
    "\n",
    "            \n",
    "print(Original_array)\n",
    "unique_array = remove_duplicate(Original_array)\n",
    "print(unique_array)"
   ]
  },
  {
   "cell_type": "markdown",
   "id": "80f3538a",
   "metadata": {},
   "source": [
    "### Question 5\n",
    "\n",
    "Write a NumPy program to create a 3x3x3 array with random values."
   ]
  },
  {
   "cell_type": "code",
   "execution_count": 17,
   "id": "462e67c5",
   "metadata": {},
   "outputs": [
    {
     "data": {
      "text/plain": [
       "array([[[ 6,  6,  9],\n",
       "        [ 7, 10,  4],\n",
       "        [ 7,  7,  1]],\n",
       "\n",
       "       [[10, 10,  8],\n",
       "        [ 8,  8,  2],\n",
       "        [ 9,  2,  7]],\n",
       "\n",
       "       [[ 4,  4,  4],\n",
       "        [ 7,  9,  7],\n",
       "        [ 6,  4, 10]]])"
      ]
     },
     "execution_count": 17,
     "metadata": {},
     "output_type": "execute_result"
    }
   ],
   "source": [
    "threeD_array = np.random.randint(1,11, size=(3,3,3))\n",
    "threeD_array"
   ]
  },
  {
   "cell_type": "markdown",
   "id": "abd66406",
   "metadata": {},
   "source": [
    "### Question 6\n",
    "\n",
    "Write a NumPy program to create a random vector of size 10 and sort it.\n",
    "<b>Note:<\\b> Do not use builtin sorting function"
   ]
  },
  {
   "cell_type": "code",
   "execution_count": 28,
   "id": "9282c068",
   "metadata": {},
   "outputs": [
    {
     "name": "stdout",
     "output_type": "stream",
     "text": [
      "[ 4 41 34 45 41  4 23 30 13 31]\n",
      "[ 4  4 13 23 30 31 34 41 41 45]\n"
     ]
    }
   ],
   "source": [
    "def selection_sort(array):\n",
    "    n = len(array)\n",
    "    i = 0\n",
    "    while i<n:\n",
    "        minimum_index=i\n",
    "        j = i + 1\n",
    "        while j < n:\n",
    "            if array[j] < array[minimum_index]:\n",
    "                minimum_index = j\n",
    "            j+=1\n",
    "        array[i], array[minimum_index] = array[minimum_index], array[i]\n",
    "        i +=1\n",
    "\n",
    "random_array = np.random.randint(1,51, size=(10))\n",
    "print(random_array)\n",
    "selection_sort(random_array)\n",
    "print(random_array)"
   ]
  },
  {
   "cell_type": "markdown",
   "id": "e0c1e8bb",
   "metadata": {},
   "source": [
    "### Question 7\n",
    "\n",
    "Write a NumPy program to check two random arrays are equal or not."
   ]
  },
  {
   "cell_type": "code",
   "execution_count": 19,
   "id": "e9c571cc",
   "metadata": {},
   "outputs": [
    {
     "name": "stdout",
     "output_type": "stream",
     "text": [
      "Random Array 1:\n",
      "[[ 9  5  1]\n",
      " [ 3  1  2]\n",
      " [10  4  3]]\n",
      "\n",
      "Random Array 2:\n",
      "[[ 2  1  3]\n",
      " [ 8  5  7]\n",
      " [ 6 10  2]]\n",
      "\n",
      "The two arrays are not equal.\n"
     ]
    }
   ],
   "source": [
    "def are_arrays_equal(arr1, arr2):\n",
    "    if arr1.shape != arr2.shape:\n",
    "        return False\n",
    "    \n",
    "    equal = True\n",
    "    for i in range(arr1.shape[0]):\n",
    "        for j in range(arr1.shape[1]):\n",
    "            if arr1[i, j] != arr2[i, j]:\n",
    "                equal = False\n",
    "                break\n",
    "    \n",
    "    return equal\n",
    "\n",
    "\n",
    "\n",
    "random_array1 = np.random.randint(1, 11, size=(3, 3))\n",
    "random_array2 = np.random.randint(1, 11, size=(3, 3))\n",
    "\n",
    "print(\"Random Array 1:\")\n",
    "print(random_array1)\n",
    "\n",
    "print(\"\\nRandom Array 2:\")\n",
    "print(random_array2)\n",
    "\n",
    "are_equal = np.array_equal(random_array1, random_array2)\n",
    "\n",
    "if are_equal:\n",
    "    print(\"\\nThe two arrays are equal.\")\n",
    "else:\n",
    "    print(\"\\nThe two arrays are not equal.\")\n"
   ]
  },
  {
   "cell_type": "markdown",
   "id": "234405fe",
   "metadata": {},
   "source": [
    "### Question 8 \n",
    "\n",
    "Write a NumPy program to sort a given array of shape 2 along the first axis, last axis and on flattened array.<br>\n",
    "\n",
    "Original array:<br>\n",
    "[[10 40]<br>\n",
    "[30 20]]"
   ]
  },
  {
   "cell_type": "code",
   "execution_count": 23,
   "id": "1b349b99",
   "metadata": {},
   "outputs": [
    {
     "data": {
      "text/plain": [
       "array([[10, 20],\n",
       "       [30, 40]])"
      ]
     },
     "execution_count": 23,
     "metadata": {},
     "output_type": "execute_result"
    }
   ],
   "source": [
    "arr3=np.array([[10,40],\n",
    "               [30,20]])\n",
    "np.sort(arr3,axis=0)"
   ]
  },
  {
   "cell_type": "markdown",
   "id": "2467ff08",
   "metadata": {},
   "source": [
    "### Question 9\n",
    "\n",
    "Write a NumPy program to get the floor, ceiling and truncated values of the elements of a numpy array.<br>\n",
    "\n",
    "Original array:<br>\n",
    "[-1.6 -1.5 -0.3 0.1 1.4 1.8 2. ]"
   ]
  },
  {
   "cell_type": "code",
   "execution_count": 22,
   "id": "8fa2a543",
   "metadata": {},
   "outputs": [
    {
     "name": "stdout",
     "output_type": "stream",
     "text": [
      "FLOOR:  [-2. -2. -1.  0.  1.  1.  2.]\n",
      "Ceiling:  [-1. -1. -0.  1.  2.  2.  2.]\n",
      "Truncated:  [-1. -1. -0.  0.  1.  1.  2.]\n"
     ]
    }
   ],
   "source": [
    "Original_array = [-1.6, -1.5, -0.3, 0.1, 1.4, 1.8, 2.0]\n",
    "Floor = np.floor(Original_array)\n",
    "print('FLOOR: ', Floor)\n",
    "\n",
    "Ceiling = np.ceil(Original_array)\n",
    "print(\"Ceiling: \", Ceiling)\n",
    "\n",
    "Truncated = np.trunc(Original_array)\n",
    "print(\"Truncated: \", Truncated)"
   ]
  },
  {
   "cell_type": "markdown",
   "id": "9434026c",
   "metadata": {},
   "source": [
    "### Questions 10\n",
    "\n",
    "Write a NumPy program to display all the dates for the month of March, 2017"
   ]
  },
  {
   "cell_type": "code",
   "execution_count": 14,
   "id": "67332471",
   "metadata": {},
   "outputs": [
    {
     "data": {
      "text/plain": [
       "array(['2017-03-01', '2017-03-02', '2017-03-03', '2017-03-04',\n",
       "       '2017-03-05', '2017-03-06', '2017-03-07', '2017-03-08',\n",
       "       '2017-03-09', '2017-03-10', '2017-03-11', '2017-03-12',\n",
       "       '2017-03-13', '2017-03-14', '2017-03-15', '2017-03-16',\n",
       "       '2017-03-17', '2017-03-18', '2017-03-19', '2017-03-20',\n",
       "       '2017-03-21', '2017-03-22', '2017-03-23', '2017-03-24',\n",
       "       '2017-03-25', '2017-03-26', '2017-03-27', '2017-03-28',\n",
       "       '2017-03-29', '2017-03-30'], dtype='datetime64[D]')"
      ]
     },
     "execution_count": 14,
     "metadata": {},
     "output_type": "execute_result"
    }
   ],
   "source": [
    "start_date = np.datetime64('2017-03-01')\n",
    "end_date = np.datetime64('2017-03-31')\n",
    "march_2017 = np.arange(start_date,end_date)\n",
    "march_2017"
   ]
  },
  {
   "cell_type": "markdown",
   "id": "34eb3ebf",
   "metadata": {},
   "source": [
    "### Question 11\n",
    "\n",
    "Write a NumPy program to create 24 python datetime.datetime objects (single object for every hour), and then put it in a numpy array."
   ]
  },
  {
   "cell_type": "code",
   "execution_count": 15,
   "id": "705b235f",
   "metadata": {},
   "outputs": [
    {
     "data": {
      "text/plain": [
       "array([datetime.datetime(2000, 1, 1, 0, 0),\n",
       "       datetime.datetime(2000, 1, 1, 1, 0),\n",
       "       datetime.datetime(2000, 1, 1, 2, 0),\n",
       "       datetime.datetime(2000, 1, 1, 3, 0),\n",
       "       datetime.datetime(2000, 1, 1, 4, 0),\n",
       "       datetime.datetime(2000, 1, 1, 5, 0),\n",
       "       datetime.datetime(2000, 1, 1, 6, 0),\n",
       "       datetime.datetime(2000, 1, 1, 7, 0),\n",
       "       datetime.datetime(2000, 1, 1, 8, 0),\n",
       "       datetime.datetime(2000, 1, 1, 9, 0),\n",
       "       datetime.datetime(2000, 1, 1, 10, 0),\n",
       "       datetime.datetime(2000, 1, 1, 11, 0),\n",
       "       datetime.datetime(2000, 1, 1, 12, 0),\n",
       "       datetime.datetime(2000, 1, 1, 13, 0),\n",
       "       datetime.datetime(2000, 1, 1, 14, 0),\n",
       "       datetime.datetime(2000, 1, 1, 15, 0),\n",
       "       datetime.datetime(2000, 1, 1, 16, 0),\n",
       "       datetime.datetime(2000, 1, 1, 17, 0),\n",
       "       datetime.datetime(2000, 1, 1, 18, 0),\n",
       "       datetime.datetime(2000, 1, 1, 19, 0),\n",
       "       datetime.datetime(2000, 1, 1, 20, 0),\n",
       "       datetime.datetime(2000, 1, 1, 21, 0),\n",
       "       datetime.datetime(2000, 1, 1, 22, 0),\n",
       "       datetime.datetime(2000, 1, 1, 23, 0)], dtype=object)"
      ]
     },
     "execution_count": 15,
     "metadata": {},
     "output_type": "execute_result"
    }
   ],
   "source": [
    "from datetime import datetime, timedelta\n",
    "_format = datetime(2000, 1, 1, 0, 0)\n",
    "date_time = np.array([_format + timedelta(hours=i) for i in range(24)])\n",
    "date_time"
   ]
  },
  {
   "cell_type": "markdown",
   "id": "e34c59d5",
   "metadata": {},
   "source": [
    "### Question 12\n",
    "\n",
    "Write a NumPy program to concatenate element-wise two arrays of string.<br>\n",
    "<b>Example <\\b>\n",
    "Array1:<br>\n",
    "['Python' 'PHP']<br>\n",
    "Array2:<br>\n",
    "[' Java' ' C++']<br>\n",
    "new array:<br>\n",
    "['Python Java' 'PHP C++']<br>"
   ]
  },
  {
   "cell_type": "code",
   "execution_count": 18,
   "id": "cd6b480c",
   "metadata": {},
   "outputs": [
    {
     "name": "stdout",
     "output_type": "stream",
     "text": [
      "['PythonJava' 'PHPC++']\n"
     ]
    }
   ],
   "source": [
    "array1 = np.array(['Python', 'PHP'])\n",
    "array2 = np.array(['Java', 'C++'])\n",
    "array = np.char.add(array1, array2)\n",
    "print(array)"
   ]
  },
  {
   "cell_type": "code",
   "execution_count": null,
   "id": "103766c6",
   "metadata": {},
   "outputs": [],
   "source": []
  }
 ],
 "metadata": {
  "kernelspec": {
   "display_name": "Python 3 (ipykernel)",
   "language": "python",
   "name": "python3"
  },
  "language_info": {
   "codemirror_mode": {
    "name": "ipython",
    "version": 3
   },
   "file_extension": ".py",
   "mimetype": "text/x-python",
   "name": "python",
   "nbconvert_exporter": "python",
   "pygments_lexer": "ipython3",
   "version": "3.9.13"
  }
 },
 "nbformat": 4,
 "nbformat_minor": 5
}
